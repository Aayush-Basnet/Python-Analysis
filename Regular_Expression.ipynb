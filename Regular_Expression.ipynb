{
 "cells": [
  {
   "cell_type": "markdown",
   "id": "613d9c4e",
   "metadata": {},
   "source": [
    "# Regular Expression"
   ]
  },
  {
   "cell_type": "markdown",
   "id": "a3470e44",
   "metadata": {},
   "source": [
    "# -Regex Use Cases"
   ]
  },
  {
   "cell_type": "code",
   "execution_count": null,
   "id": "c80191b5",
   "metadata": {},
   "outputs": [],
   "source": [
    "/*\n",
    "Regex      Usage\n",
    "\\d         Matches any digit\n",
    "\\D         Matches any non-digit\n",
    "\\w         Matches any alphanumeric charcter\n",
    "\\W         Matches any non-alphanumeric character\n",
    "\\s         Matches any whitespace character\n",
    "\\S         Matches any non-whitespace character\n",
    "[a-z]      Matches any lowercase character from a to z\n",
    "[A-Z]      Matches any uppercase character from A to Z\n",
    "[0-9]      Matches any digit from 0 to 9, quivalent to \\d\n",
    "*/"
   ]
  },
  {
   "cell_type": "code",
   "execution_count": 2,
   "id": "b142ea7e",
   "metadata": {},
   "outputs": [],
   "source": [
    "import re\n",
    "\n",
    "text= '''\n",
    "My name is Mr. Harry Potter. My phone number is 123-456-7890. My email is ChosenOne@gmail.com\n",
    "My name is Mr. Guy. My phone number is 413-234-2568. My email is FreeGuy@yahoo.com. \n",
    "My name is Mr. Iron Man. My phone number is 285-036-8215. My email is ImIronMan1@apple.com.\n",
    "\n",
    "'''"
   ]
  },
  {
   "cell_type": "code",
   "execution_count": 60,
   "id": "6639edc8",
   "metadata": {},
   "outputs": [
    {
     "data": {
      "text/plain": [
       "['@gmail', '@yahoo', '@apple']"
      ]
     },
     "execution_count": 60,
     "metadata": {},
     "output_type": "execute_result"
    }
   ],
   "source": [
    "#'@[a-z]' output ['@g', '@y', '@a']\n",
    "#'@[a-z]+' output['@gmail', '@yahoo', '@apple']\n",
    "# '@[\\w]+' output ['@gmail', '@yahoo', '@apple']\n",
    "re.findall('@[a-z]+',text)"
   ]
  },
  {
   "cell_type": "code",
   "execution_count": 61,
   "id": "29dc336e",
   "metadata": {},
   "outputs": [
    {
     "data": {
      "text/plain": [
       "['gmail.com', 'yahoo.com.', 'apple.com.']"
      ]
     },
     "execution_count": 61,
     "metadata": {},
     "output_type": "execute_result"
    }
   ],
   "source": [
    "# '@[w]+' output []\n",
    "# '@[\\w]+' output ['@gmail', '@yahoo', '@apple']\n",
    "# '@[\\w\\.]+' output ['@gmail.com', '@yahoo.com.', '@apple.com.']\n",
    "# '@([\\w\\.]+)' output ['gmail.com', 'yahoo.com.', 'apple.com.']\n",
    "re.findall('@([\\w\\.]+)',text)"
   ]
  },
  {
   "cell_type": "code",
   "execution_count": 7,
   "id": "d9e8708d",
   "metadata": {
    "scrolled": true
   },
   "outputs": [
    {
     "data": {
      "text/plain": [
       "['ChosenOne@gmail.com', 'FreeGuy@yahoo.com.', 'ImIronMan1@apple.com.']"
      ]
     },
     "execution_count": 7,
     "metadata": {},
     "output_type": "execute_result"
    }
   ],
   "source": [
    "re.findall('[\\w\\.]+@[\\w\\.]+',text)"
   ]
  },
  {
   "cell_type": "code",
   "execution_count": 63,
   "id": "19b5d88b",
   "metadata": {},
   "outputs": [
    {
     "data": {
      "text/plain": [
       "['123-456-7890', '413-234-2568', '285-036-8215']"
      ]
     },
     "execution_count": 63,
     "metadata": {},
     "output_type": "execute_result"
    }
   ],
   "source": [
    "re.findall('\\d{3}-\\d{3}-\\d{4}',text)"
   ]
  },
  {
   "cell_type": "code",
   "execution_count": 68,
   "id": "b2912c24",
   "metadata": {},
   "outputs": [],
   "source": [
    "lists= ['ChosenOne@gmail.com', 'FreeGuy@yahoo.com.', 'ImIronMan1@apple.com.']"
   ]
  },
  {
   "cell_type": "code",
   "execution_count": 71,
   "id": "1420382c",
   "metadata": {},
   "outputs": [
    {
     "name": "stdout",
     "output_type": "stream",
     "text": [
      "['@gmail.com']\n",
      "['@yahoo.com.']\n",
      "['@apple.com.']\n"
     ]
    }
   ],
   "source": [
    "for email in lists:\n",
    "    print(re.findall('@[\\w\\.]+',email))"
   ]
  },
  {
   "cell_type": "code",
   "execution_count": 72,
   "id": "2731ff29",
   "metadata": {},
   "outputs": [
    {
     "name": "stdout",
     "output_type": "stream",
     "text": [
      "['ChosenOne@gmail.com']\n",
      "['FreeGuy@yahoo.com.']\n",
      "['ImIronMan1@apple.com.']\n"
     ]
    }
   ],
   "source": [
    "for email in lists:\n",
    "    print(re.findall('[\\w]+@[\\w\\.]+',email))"
   ]
  },
  {
   "cell_type": "code",
   "execution_count": 79,
   "id": "74b84a75",
   "metadata": {},
   "outputs": [
    {
     "name": "stdout",
     "output_type": "stream",
     "text": [
      "['gmail.com', 'yahoo.com.', 'apple.com.']\n"
     ]
    }
   ],
   "source": [
    "domain_list = [re.findall('@([\\w\\.]+)',email)[0] for email in lists]\n",
    "print(domain_list)"
   ]
  },
  {
   "cell_type": "code",
   "execution_count": null,
   "id": "ee2ab16a",
   "metadata": {},
   "outputs": [],
   "source": []
  },
  {
   "cell_type": "code",
   "execution_count": 92,
   "id": "d2d69298",
   "metadata": {},
   "outputs": [
    {
     "name": "stdout",
     "output_type": "stream",
     "text": [
      "Cleaned Text: This text contains  unwanted characters\n"
     ]
    }
   ],
   "source": [
    "import re\n",
    "\n",
    "dirty_text = \"This text contains $%& unwanted characters!\"\n",
    "clean_text = re.sub(r'[^\\w\\s]', '', dirty_text)\n",
    "print(\"Cleaned Text:\", clean_text)\n"
   ]
  },
  {
   "cell_type": "code",
   "execution_count": 2,
   "id": "a46e942c",
   "metadata": {},
   "outputs": [
    {
     "name": "stdout",
     "output_type": "stream",
     "text": [
      "Product Code: ABC-123\n"
     ]
    }
   ],
   "source": [
    "import re\n",
    "\n",
    "text = \"The product code is ABC-123.\"\n",
    "match = re.search(r'\\b([A-Z]{3}-\\d{3})\\b', text)\n",
    "if match:\n",
    "    print(\"Product Code:\", match.group(1))\n"
   ]
  },
  {
   "cell_type": "code",
   "execution_count": 117,
   "id": "2cf46c8b",
   "metadata": {},
   "outputs": [
    {
     "data": {
      "text/plain": [
       "['ABC-123']"
      ]
     },
     "execution_count": 117,
     "metadata": {},
     "output_type": "execute_result"
    }
   ],
   "source": [
    "re.findall(r'[\\w]{3}-\\d{3}',text)\n"
   ]
  },
  {
   "cell_type": "code",
   "execution_count": 3,
   "id": "f58a214c",
   "metadata": {},
   "outputs": [
    {
     "data": {
      "text/plain": [
       "'ABC-123'"
      ]
     },
     "execution_count": 3,
     "metadata": {},
     "output_type": "execute_result"
    }
   ],
   "source": [
    "re.search(r'\\b(\\w{3}-\\d{3})\\b', text).group()\n"
   ]
  },
  {
   "cell_type": "code",
   "execution_count": 40,
   "id": "f63e48ae",
   "metadata": {},
   "outputs": [
    {
     "name": "stdout",
     "output_type": "stream",
     "text": [
      "Product Code:  ABC-123\n"
     ]
    }
   ],
   "source": [
    "import re\n",
    "\n",
    "text = \"The product code is ABC-123.\"\n",
    "match = re.search(\"ABC-123\", text).group()\n",
    "print(\"Product Code: \" ,match)"
   ]
  },
  {
   "cell_type": "code",
   "execution_count": null,
   "id": "7dd48fe0",
   "metadata": {},
   "outputs": [],
   "source": []
  },
  {
   "cell_type": "markdown",
   "id": "afb7a818",
   "metadata": {},
   "source": [
    "# Re Module + Regex Methods"
   ]
  },
  {
   "cell_type": "code",
   "execution_count": null,
   "id": "16507b65",
   "metadata": {},
   "outputs": [],
   "source": [
    "/*\n",
    "Function         Description\n",
    "findall       Returns a list containing all matches\n",
    "search       Returns a Match object if there is a match anywhere in the string\n",
    "split        Returns a list where the string has been split at each match\n",
    "sub          Replaces one or many matches with a string\n",
    "*/"
   ]
  },
  {
   "cell_type": "code",
   "execution_count": 13,
   "id": "88f40fdf",
   "metadata": {},
   "outputs": [],
   "source": [
    "import re"
   ]
  },
  {
   "cell_type": "code",
   "execution_count": 106,
   "id": "f3419b3b",
   "metadata": {},
   "outputs": [],
   "source": [
    "quotes = \"This book is not only about money-making secrets, but it is about examining the pyshological power of though and the brain in the process of furthering your career for both monetary and personal satisfaction\""
   ]
  },
  {
   "cell_type": "code",
   "execution_count": 21,
   "id": "a6a6079c",
   "metadata": {},
   "outputs": [
    {
     "data": {
      "text/plain": [
       "'book'"
      ]
     },
     "execution_count": 21,
     "metadata": {},
     "output_type": "execute_result"
    }
   ],
   "source": [
    "# search returns a match object if there is a match anywhere in the string\n",
    "re.search(\"book\",quotes).group()"
   ]
  },
  {
   "cell_type": "code",
   "execution_count": 80,
   "id": "214aaabc",
   "metadata": {},
   "outputs": [
    {
     "name": "stdout",
     "output_type": "stream",
     "text": [
      "The\n"
     ]
    }
   ],
   "source": [
    "import re\n",
    "text = \"The cat and the dog sat together\"\n",
    "patter = r'\\b\\w{3}\\b'\n",
    "result = re.search(patter,text)\n",
    "print(result.group())"
   ]
  },
  {
   "cell_type": "code",
   "execution_count": 83,
   "id": "ec8fd95a",
   "metadata": {},
   "outputs": [
    {
     "data": {
      "text/plain": [
       "'the'"
      ]
     },
     "execution_count": 83,
     "metadata": {},
     "output_type": "execute_result"
    }
   ],
   "source": [
    "re.search(\"the\",text).group()"
   ]
  },
  {
   "cell_type": "code",
   "execution_count": 97,
   "id": "63623e4c",
   "metadata": {},
   "outputs": [],
   "source": [
    "import re\n",
    "text2 = \"The Product Code is ABC-123\"\n",
    "\n",
    "match = re.search(r'\\b([A-Z]{3}-\\d{3})\\b',text2)"
   ]
  },
  {
   "cell_type": "code",
   "execution_count": 96,
   "id": "fb1e6277",
   "metadata": {},
   "outputs": [
    {
     "data": {
      "text/plain": [
       "<re.Match object; span=(4, 11), match='Product'>"
      ]
     },
     "execution_count": 96,
     "metadata": {},
     "output_type": "execute_result"
    }
   ],
   "source": [
    "re.search(\"Product\",text2)"
   ]
  },
  {
   "cell_type": "code",
   "execution_count": 98,
   "id": "23351239",
   "metadata": {},
   "outputs": [
    {
     "data": {
      "text/plain": [
       "'ABC-123'"
      ]
     },
     "execution_count": 98,
     "metadata": {},
     "output_type": "execute_result"
    }
   ],
   "source": [
    "re.search(\"ABC-123\", text2).group()\n"
   ]
  },
  {
   "cell_type": "code",
   "execution_count": null,
   "id": "a0fa1fc1",
   "metadata": {},
   "outputs": [],
   "source": []
  },
  {
   "cell_type": "code",
   "execution_count": 22,
   "id": "3b9b3eb7",
   "metadata": {},
   "outputs": [
    {
     "data": {
      "text/plain": [
       "['and', 'and']"
      ]
     },
     "execution_count": 22,
     "metadata": {},
     "output_type": "execute_result"
    }
   ],
   "source": [
    "# findall returns a list containing all matches\n",
    "re.findall(\"and\",quotes)"
   ]
  },
  {
   "cell_type": "code",
   "execution_count": 52,
   "id": "2ca14647",
   "metadata": {},
   "outputs": [
    {
     "data": {
      "text/plain": [
       "['The', 'cat', 'and', 'the', 'dog', 'sat']"
      ]
     },
     "execution_count": 52,
     "metadata": {},
     "output_type": "execute_result"
    }
   ],
   "source": [
    "import re\n",
    "text = \"The cat and the dog sat together\"\n",
    "patter = r'\\b\\w{3}\\b'\n",
    "re.findall(patter,text)\n"
   ]
  },
  {
   "cell_type": "code",
   "execution_count": 73,
   "id": "84b822ee",
   "metadata": {},
   "outputs": [
    {
     "name": "stdout",
     "output_type": "stream",
     "text": [
      "Tokens:  ['This', 'is', 'a', 'sample', 'sentence']\n"
     ]
    }
   ],
   "source": [
    "import re\n",
    "sentence = \"This is a sample sentence.\"\n",
    "token = re.findall(r'\\b\\w+\\b',sentence)\n",
    "print(\"Tokens: \",token)"
   ]
  },
  {
   "cell_type": "code",
   "execution_count": 61,
   "id": "fd8a06e1",
   "metadata": {},
   "outputs": [
    {
     "data": {
      "text/plain": [
       "['https://www.google.com',\n",
       " 'https://www.facebook.com',\n",
       " 'https://www.microsoft.com']"
      ]
     },
     "execution_count": 61,
     "metadata": {},
     "output_type": "execute_result"
    }
   ],
   "source": [
    "import re\n",
    "url_search = '''\n",
    "Visit our website: https://www.google.com\n",
    "Visit our website: https://www.facebook.com\n",
    "Visit our website: https://www.microsoft.com\n",
    "'''\n",
    "\n",
    "re.findall(r'https://[\\w\\.]+',url_search)"
   ]
  },
  {
   "cell_type": "code",
   "execution_count": 100,
   "id": "1f0ed556",
   "metadata": {},
   "outputs": [
    {
     "data": {
      "text/plain": [
       "['google', 'facebook', 'microsoft']"
      ]
     },
     "execution_count": 100,
     "metadata": {},
     "output_type": "execute_result"
    }
   ],
   "source": [
    "re.findall(r'www.([a-z]+)',url_search)"
   ]
  },
  {
   "cell_type": "code",
   "execution_count": 84,
   "id": "dbf30f5b",
   "metadata": {},
   "outputs": [
    {
     "data": {
      "text/plain": [
       "['the', 'the']"
      ]
     },
     "execution_count": 84,
     "metadata": {},
     "output_type": "execute_result"
    }
   ],
   "source": [
    "re.findall(\"the\",text)"
   ]
  },
  {
   "cell_type": "code",
   "execution_count": null,
   "id": "507eca41",
   "metadata": {},
   "outputs": [],
   "source": []
  },
  {
   "cell_type": "code",
   "execution_count": null,
   "id": "43109e6c",
   "metadata": {},
   "outputs": [],
   "source": []
  },
  {
   "cell_type": "code",
   "execution_count": 33,
   "id": "524e610b",
   "metadata": {},
   "outputs": [
    {
     "data": {
      "text/plain": [
       "'This book is not only about money-making secrets, but it is about examining the pyshological power of though or the brain in the process of furthering your career for both monetary and personal satisfaction'"
      ]
     },
     "execution_count": 33,
     "metadata": {},
     "output_type": "execute_result"
    }
   ],
   "source": [
    "#sub replaces one or many matches with a string\n",
    "re.sub(\"and\",\"or\",quotes,count =1)"
   ]
  },
  {
   "cell_type": "code",
   "execution_count": 124,
   "id": "9a8c52d9",
   "metadata": {},
   "outputs": [
    {
     "name": "stdout",
     "output_type": "stream",
     "text": [
      "*** *** *** *** *** *** together\n"
     ]
    }
   ],
   "source": [
    "import re\n",
    "\n",
    "inline = \"The cat and the dog sat together\"\n",
    "\n",
    "pattern = r'\\b\\w{3}\\b'\n",
    "replacement  = '***'\n",
    "result = re.sub(pattern,replacement,inline)\n",
    "print(result)"
   ]
  },
  {
   "cell_type": "code",
   "execution_count": 130,
   "id": "1b6f82ba",
   "metadata": {},
   "outputs": [
    {
     "name": "stdout",
     "output_type": "stream",
     "text": [
      " This is a bold statement.\n"
     ]
    }
   ],
   "source": [
    "import re\n",
    "\n",
    "html_content = '<p> This is a <strong>bold</strong> statement.<\\p>'\n",
    "\n",
    "pattern = r'<[^>]+>'\n",
    "replacement = ''\n",
    "result = re.sub(pattern,replacement,html_content)\n",
    "print(result)"
   ]
  },
  {
   "cell_type": "code",
   "execution_count": null,
   "id": "193d3e5d",
   "metadata": {},
   "outputs": [],
   "source": []
  },
  {
   "cell_type": "markdown",
   "id": "14c2017a",
   "metadata": {},
   "source": [
    "# Regex Meta-characters"
   ]
  },
  {
   "cell_type": "code",
   "execution_count": 1,
   "id": "84eeb282",
   "metadata": {},
   "outputs": [],
   "source": [
    "import re"
   ]
  },
  {
   "cell_type": "code",
   "execution_count": 7,
   "id": "cc1fc72e",
   "metadata": {},
   "outputs": [
    {
     "data": {
      "text/plain": [
       "['I',\n",
       " 'l',\n",
       " 'i',\n",
       " 'k',\n",
       " 'e',\n",
       " 't',\n",
       " 'h',\n",
       " 'e',\n",
       " 'm',\n",
       " 'o',\n",
       " 'u',\n",
       " 'n',\n",
       " 't',\n",
       " 'a',\n",
       " 'i',\n",
       " 'n',\n",
       " 's',\n",
       " 'i',\n",
       " 'n',\n",
       " 't',\n",
       " 'h',\n",
       " 'e',\n",
       " 's',\n",
       " 'p',\n",
       " 'r',\n",
       " 'i',\n",
       " 'n',\n",
       " 'g']"
      ]
     },
     "execution_count": 7,
     "metadata": {},
     "output_type": "execute_result"
    }
   ],
   "source": [
    "string = 'I like the mountains in the spring'\n",
    "\n",
    "re.findall('[a-zA-Z]',string)"
   ]
  },
  {
   "cell_type": "code",
   "execution_count": 8,
   "id": "b0dad70d",
   "metadata": {},
   "outputs": [
    {
     "data": {
      "text/plain": [
       "['3', '4', '2', '4', '5', '2']"
      ]
     },
     "execution_count": 8,
     "metadata": {},
     "output_type": "execute_result"
    }
   ],
   "source": [
    "string = 'I have 342,452 books'\n",
    "\n",
    "re.findall('[0-9]',string)"
   ]
  },
  {
   "cell_type": "code",
   "execution_count": 12,
   "id": "fb826713",
   "metadata": {},
   "outputs": [
    {
     "data": {
      "text/plain": [
       "['sea', 'sea']"
      ]
     },
     "execution_count": 12,
     "metadata": {},
     "output_type": "execute_result"
    }
   ],
   "source": [
    "string = 'You can see sea shells by the sea shore'\n",
    "\n",
    "re.findall('s.a',string)"
   ]
  },
  {
   "cell_type": "code",
   "execution_count": 17,
   "id": "0cb1e286",
   "metadata": {},
   "outputs": [
    {
     "data": {
      "text/plain": [
       "[]"
      ]
     },
     "execution_count": 17,
     "metadata": {},
     "output_type": "execute_result"
    }
   ],
   "source": [
    "string = 'You can see sea shells by the sea shore'\n",
    "re.findall('s.{}a',string)"
   ]
  },
  {
   "cell_type": "code",
   "execution_count": 19,
   "id": "746b846e",
   "metadata": {},
   "outputs": [
    {
     "data": {
      "text/plain": [
       "['Well', 'Will']"
      ]
     },
     "execution_count": 19,
     "metadata": {},
     "output_type": "execute_result"
    }
   ],
   "source": [
    "string = \"Well well well.. if it isn't Will Wilmer\"\n",
    "\n",
    "re.findall('W.{2}l',string)"
   ]
  },
  {
   "cell_type": "code",
   "execution_count": 20,
   "id": "eb37f38a",
   "metadata": {},
   "outputs": [
    {
     "data": {
      "text/plain": [
       "['Happy']"
      ]
     },
     "execution_count": 20,
     "metadata": {},
     "output_type": "execute_result"
    }
   ],
   "source": [
    "#   ^(starts) and $(ends)\n",
    "string ='Happy birthday to you. Happy birthday to you. Happy birthday to you Aayush. Happy birthday to you.'\n",
    "\n",
    "re.findall('^Happy',string)"
   ]
  },
  {
   "cell_type": "code",
   "execution_count": 25,
   "id": "88f34e1e",
   "metadata": {},
   "outputs": [
    {
     "data": {
      "text/plain": [
       "['you.']"
      ]
     },
     "execution_count": 25,
     "metadata": {},
     "output_type": "execute_result"
    }
   ],
   "source": [
    "string ='Happy birthday to you. Happy birthday to you. Happy birthday to you Aayush. Happy birthday to you.'\n",
    "\n",
    "re.findall('you.$',string)"
   ]
  },
  {
   "cell_type": "code",
   "execution_count": null,
   "id": "41c9486d",
   "metadata": {},
   "outputs": [],
   "source": [
    "# * - zero or monre\n",
    "# + - one or more\n",
    "# ? - zero or one"
   ]
  },
  {
   "cell_type": "code",
   "execution_count": 26,
   "id": "29780443",
   "metadata": {},
   "outputs": [
    {
     "data": {
      "text/plain": [
       "['This thing called a Thimble the Thrice hurt me.']"
      ]
     },
     "execution_count": 26,
     "metadata": {},
     "output_type": "execute_result"
    }
   ],
   "source": [
    "# Starts with Th but ends at . becuase Th.* means Starts with Th and .* contains zero or more words.\n",
    "string = 'This thing called a Thimble the Thrice hurt me.'\n",
    "\n",
    "re.findall('Th.*',string)"
   ]
  },
  {
   "cell_type": "code",
   "execution_count": 34,
   "id": "60eca4a5",
   "metadata": {},
   "outputs": [
    {
     "data": {
      "text/plain": [
       "['This thing called a']"
      ]
     },
     "execution_count": 34,
     "metadata": {},
     "output_type": "execute_result"
    }
   ],
   "source": [
    "# given string starts with T but ends with last character 'a'.\n",
    "string = 'This thing called a Thimble the Thrice hurt me.'\n",
    "\n",
    "re.findall('Th.*a',string)"
   ]
  },
  {
   "cell_type": "code",
   "execution_count": 35,
   "id": "19bd1519",
   "metadata": {},
   "outputs": [
    {
     "data": {
      "text/plain": [
       "['This thing called a']"
      ]
     },
     "execution_count": 35,
     "metadata": {},
     "output_type": "execute_result"
    }
   ],
   "source": [
    "string = 'This thing called a Thimble the Thrice hurt me.'\n",
    "\n",
    "re.findall('Th.+a',string)"
   ]
  },
  {
   "cell_type": "code",
   "execution_count": 39,
   "id": "83ee82ed",
   "metadata": {},
   "outputs": [
    {
     "data": {
      "text/plain": [
       "['Thimble']"
      ]
     },
     "execution_count": 39,
     "metadata": {},
     "output_type": "execute_result"
    }
   ],
   "source": [
    "# starts with Thi .{3} means contains 3 letters and ?e mean contain zero or one letter\n",
    "string = 'This thing called a Thimble the Thrice hurt me.'\n",
    "\n",
    "re.findall('Thi.{3}?e',string)"
   ]
  },
  {
   "cell_type": "code",
   "execution_count": 42,
   "id": "e4f75495",
   "metadata": {},
   "outputs": [
    {
     "data": {
      "text/plain": [
       "['love']"
      ]
     },
     "execution_count": 42,
     "metadata": {},
     "output_type": "execute_result"
    }
   ],
   "source": [
    "string= 'I hate that I love watching movies. They really are entertaining'\n",
    "\n",
    "re.findall('beautiful|love',string)"
   ]
  },
  {
   "cell_type": "code",
   "execution_count": 53,
   "id": "f6584f33",
   "metadata": {},
   "outputs": [
    {
     "data": {
      "text/plain": [
       "['s.', 's.']"
      ]
     },
     "execution_count": 53,
     "metadata": {},
     "output_type": "execute_result"
    }
   ],
   "source": [
    "string = 'I like cats. You like cats? We all like cats.'\n",
    "\n",
    "re.findall('\\w\\.+',string)"
   ]
  },
  {
   "cell_type": "code",
   "execution_count": null,
   "id": "c60965af",
   "metadata": {},
   "outputs": [],
   "source": []
  },
  {
   "cell_type": "markdown",
   "id": "ba8b4c52",
   "metadata": {},
   "source": [
    "# Regex Character Classes"
   ]
  },
  {
   "cell_type": "code",
   "execution_count": null,
   "id": "0b216bf8",
   "metadata": {},
   "outputs": [],
   "source": [
    "/*\n",
    "Regex      Usage\n",
    "\\d         Matches any digit\n",
    "\\D         Matches any non-digit\n",
    "\\w         Matches any alphanumeric charcter\n",
    "\\W         Matches any non-alphanumeric character\n",
    "\\s         Matches any whitespace character\n",
    "\\S         Matches any non-whitespace character\n",
    "[a-z]      Matches any lowercase character from a to z\n",
    "[A-Z]      Matches any uppercase character from A to Z\n",
    "[0-9]      Matches any digit from 0 to 9, quivalent to \\d\n",
    "*/"
   ]
  },
  {
   "cell_type": "code",
   "execution_count": 4,
   "id": "d8547cc3",
   "metadata": {},
   "outputs": [],
   "source": [
    "import re"
   ]
  },
  {
   "cell_type": "code",
   "execution_count": 5,
   "id": "c0c97141",
   "metadata": {},
   "outputs": [],
   "source": [
    "quote = 'Hello! My name is Aayush Basnet. My phone number is 124-456-7890. Mail me at aayush123@gmail.com'"
   ]
  },
  {
   "cell_type": "code",
   "execution_count": 7,
   "id": "93537498",
   "metadata": {},
   "outputs": [
    {
     "data": {
      "text/plain": [
       "['124', '456', '789', '123']"
      ]
     },
     "execution_count": 7,
     "metadata": {},
     "output_type": "execute_result"
    }
   ],
   "source": [
    "re.findall('\\d{3}',quote)"
   ]
  },
  {
   "cell_type": "code",
   "execution_count": 8,
   "id": "9851dad6",
   "metadata": {},
   "outputs": [
    {
     "data": {
      "text/plain": [
       "['124-456-7890']"
      ]
     },
     "execution_count": 8,
     "metadata": {},
     "output_type": "execute_result"
    }
   ],
   "source": [
    "re.findall('\\d{3}-\\d{3}-\\d{4}',quote)"
   ]
  },
  {
   "cell_type": "code",
   "execution_count": 10,
   "id": "60482f05",
   "metadata": {},
   "outputs": [
    {
     "data": {
      "text/plain": [
       "['124', '456', '789', '123']"
      ]
     },
     "execution_count": 10,
     "metadata": {},
     "output_type": "execute_result"
    }
   ],
   "source": [
    "re.findall('[0-9]{3}',quote)"
   ]
  },
  {
   "cell_type": "code",
   "execution_count": 11,
   "id": "e3cfcbf5",
   "metadata": {},
   "outputs": [
    {
     "data": {
      "text/plain": [
       "['H',\n",
       " 'e',\n",
       " 'l',\n",
       " 'l',\n",
       " 'o',\n",
       " '!',\n",
       " ' ',\n",
       " 'M',\n",
       " 'y',\n",
       " ' ',\n",
       " 'n',\n",
       " 'a',\n",
       " 'm',\n",
       " 'e',\n",
       " ' ',\n",
       " 'i',\n",
       " 's',\n",
       " ' ',\n",
       " 'A',\n",
       " 'a',\n",
       " 'y',\n",
       " 'u',\n",
       " 's',\n",
       " 'h',\n",
       " ' ',\n",
       " 'B',\n",
       " 'a',\n",
       " 's',\n",
       " 'n',\n",
       " 'e',\n",
       " 't',\n",
       " '.',\n",
       " ' ',\n",
       " 'M',\n",
       " 'y',\n",
       " ' ',\n",
       " 'p',\n",
       " 'h',\n",
       " 'o',\n",
       " 'n',\n",
       " 'e',\n",
       " ' ',\n",
       " 'n',\n",
       " 'u',\n",
       " 'm',\n",
       " 'b',\n",
       " 'e',\n",
       " 'r',\n",
       " ' ',\n",
       " 'i',\n",
       " 's',\n",
       " ' ',\n",
       " '-',\n",
       " '-',\n",
       " '.',\n",
       " ' ',\n",
       " 'M',\n",
       " 'a',\n",
       " 'i',\n",
       " 'l',\n",
       " ' ',\n",
       " 'm',\n",
       " 'e',\n",
       " ' ',\n",
       " 'a',\n",
       " 't',\n",
       " ' ',\n",
       " 'a',\n",
       " 'a',\n",
       " 'y',\n",
       " 'u',\n",
       " 's',\n",
       " 'h',\n",
       " '@',\n",
       " 'g',\n",
       " 'm',\n",
       " 'a',\n",
       " 'i',\n",
       " 'l',\n",
       " '.',\n",
       " 'c',\n",
       " 'o',\n",
       " 'm']"
      ]
     },
     "execution_count": 11,
     "metadata": {},
     "output_type": "execute_result"
    }
   ],
   "source": [
    "re.findall('\\D',quote)"
   ]
  },
  {
   "cell_type": "code",
   "execution_count": 17,
   "id": "8f0fc039",
   "metadata": {},
   "outputs": [
    {
     "data": {
      "text/plain": [
       "['H',\n",
       " 'e',\n",
       " 'l',\n",
       " 'l',\n",
       " 'o',\n",
       " 'M',\n",
       " 'y',\n",
       " 'n',\n",
       " 'a',\n",
       " 'm',\n",
       " 'e',\n",
       " 'i',\n",
       " 's',\n",
       " 'A',\n",
       " 'a',\n",
       " 'y',\n",
       " 'u',\n",
       " 's',\n",
       " 'h',\n",
       " 'B',\n",
       " 'a',\n",
       " 's',\n",
       " 'n',\n",
       " 'e',\n",
       " 't',\n",
       " 'M',\n",
       " 'y',\n",
       " 'p',\n",
       " 'h',\n",
       " 'o',\n",
       " 'n',\n",
       " 'e',\n",
       " 'n',\n",
       " 'u',\n",
       " 'm',\n",
       " 'b',\n",
       " 'e',\n",
       " 'r',\n",
       " 'i',\n",
       " 's',\n",
       " '1',\n",
       " '2',\n",
       " '4',\n",
       " '4',\n",
       " '5',\n",
       " '6',\n",
       " '7',\n",
       " '8',\n",
       " '9',\n",
       " '0',\n",
       " 'M',\n",
       " 'a',\n",
       " 'i',\n",
       " 'l',\n",
       " 'm',\n",
       " 'e',\n",
       " 'a',\n",
       " 't',\n",
       " 'a',\n",
       " 'a',\n",
       " 'y',\n",
       " 'u',\n",
       " 's',\n",
       " 'h',\n",
       " '1',\n",
       " '2',\n",
       " '3',\n",
       " 'g',\n",
       " 'm',\n",
       " 'a',\n",
       " 'i',\n",
       " 'l',\n",
       " 'c',\n",
       " 'o',\n",
       " 'm']"
      ]
     },
     "execution_count": 17,
     "metadata": {},
     "output_type": "execute_result"
    }
   ],
   "source": [
    "# \\w\n",
    "re.findall('\\W',quote)\n",
    "\n",
    "re.findall('\\w',quote)"
   ]
  },
  {
   "cell_type": "code",
   "execution_count": 20,
   "id": "a73b8fbf",
   "metadata": {},
   "outputs": [
    {
     "data": {
      "text/plain": [
       "[' ', ' ', ' ', ' ', ' ', ' ', ' ', ' ', ' ', ' ', ' ', ' ', ' ', ' ']"
      ]
     },
     "execution_count": 20,
     "metadata": {},
     "output_type": "execute_result"
    }
   ],
   "source": [
    "re.findall('\\s',quote)\n",
    "\n",
    "re.findall('\\S',quote)"
   ]
  },
  {
   "cell_type": "code",
   "execution_count": 29,
   "id": "dc5c43b2",
   "metadata": {},
   "outputs": [
    {
     "data": {
      "text/plain": [
       "['m']"
      ]
     },
     "execution_count": 29,
     "metadata": {},
     "output_type": "execute_result"
    }
   ],
   "source": [
    " re.findall('\\A[A-Za-z]',quote)\n",
    "     \n",
    "re.findall('[A-Za-z]\\Z',quote)"
   ]
  },
  {
   "cell_type": "code",
   "execution_count": 55,
   "id": "5875821d",
   "metadata": {},
   "outputs": [],
   "source": [
    "quote = 'Spring comes after Winter. After Winters, spring comes'"
   ]
  },
  {
   "cell_type": "code",
   "execution_count": 62,
   "id": "41b61b39",
   "metadata": {},
   "outputs": [
    {
     "data": {
      "text/plain": [
       "['Winter']"
      ]
     },
     "execution_count": 62,
     "metadata": {},
     "output_type": "execute_result"
    }
   ],
   "source": [
    "re.findall(r'Winter\\b',quote)"
   ]
  },
  {
   "cell_type": "code",
   "execution_count": 61,
   "id": "84b72156",
   "metadata": {},
   "outputs": [
    {
     "data": {
      "text/plain": [
       "['inter']"
      ]
     },
     "execution_count": 61,
     "metadata": {},
     "output_type": "execute_result"
    }
   ],
   "source": [
    "re.findall('inter\\B',quote)"
   ]
  },
  {
   "cell_type": "code",
   "execution_count": null,
   "id": "cf8b7eb5",
   "metadata": {},
   "outputs": [],
   "source": []
  },
  {
   "cell_type": "code",
   "execution_count": null,
   "id": "dbb85279",
   "metadata": {},
   "outputs": [],
   "source": []
  }
 ],
 "metadata": {
  "kernelspec": {
   "display_name": "Python 3 (ipykernel)",
   "language": "python",
   "name": "python3"
  },
  "language_info": {
   "codemirror_mode": {
    "name": "ipython",
    "version": 3
   },
   "file_extension": ".py",
   "mimetype": "text/x-python",
   "name": "python",
   "nbconvert_exporter": "python",
   "pygments_lexer": "ipython3",
   "version": "3.11.5"
  }
 },
 "nbformat": 4,
 "nbformat_minor": 5
}
