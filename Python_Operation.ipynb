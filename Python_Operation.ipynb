{
 "cells": [
  {
   "cell_type": "markdown",
   "id": "19a81a0c",
   "metadata": {},
   "source": [
    "# Operation in Python"
   ]
  },
  {
   "cell_type": "markdown",
   "id": "56832728",
   "metadata": {},
   "source": [
    "# -Comparsion Operators"
   ]
  },
  {
   "cell_type": "code",
   "execution_count": 1,
   "id": "85ac22c4",
   "metadata": {},
   "outputs": [
    {
     "ename": "SyntaxError",
     "evalue": "cannot assign to literal here. Maybe you meant '==' instead of '='? (2359669884.py, line 1)",
     "output_type": "error",
     "traceback": [
      "\u001b[1;36m  Cell \u001b[1;32mIn[1], line 1\u001b[1;36m\u001b[0m\n\u001b[1;33m    5=5\u001b[0m\n\u001b[1;37m    ^\u001b[0m\n\u001b[1;31mSyntaxError\u001b[0m\u001b[1;31m:\u001b[0m cannot assign to literal here. Maybe you meant '==' instead of '='?\n"
     ]
    }
   ],
   "source": [
    "5=5"
   ]
  },
  {
   "cell_type": "code",
   "execution_count": 3,
   "id": "be5882ba",
   "metadata": {},
   "outputs": [
    {
     "data": {
      "text/plain": [
       "False"
      ]
     },
     "execution_count": 3,
     "metadata": {},
     "output_type": "execute_result"
    }
   ],
   "source": [
    "5==5\n",
    "5==10"
   ]
  },
  {
   "cell_type": "code",
   "execution_count": 9,
   "id": "2aa1dae5",
   "metadata": {},
   "outputs": [
    {
     "data": {
      "text/plain": [
       "True"
      ]
     },
     "execution_count": 9,
     "metadata": {},
     "output_type": "execute_result"
    }
   ],
   "source": [
    "'Aayush' == 'Basnet'\n",
    "'Aayush'== 'Aayush'\n"
   ]
  },
  {
   "cell_type": "code",
   "execution_count": 10,
   "id": "d75627a6",
   "metadata": {},
   "outputs": [
    {
     "data": {
      "text/plain": [
       "False"
      ]
     },
     "execution_count": 10,
     "metadata": {},
     "output_type": "execute_result"
    }
   ],
   "source": [
    "A = 'Apple'\n",
    "B = 'Ball'\n",
    "A ==B"
   ]
  },
  {
   "cell_type": "code",
   "execution_count": 11,
   "id": "5cc9396a",
   "metadata": {},
   "outputs": [
    {
     "data": {
      "text/plain": [
       "True"
      ]
     },
     "execution_count": 11,
     "metadata": {},
     "output_type": "execute_result"
    }
   ],
   "source": [
    "5<10"
   ]
  },
  {
   "cell_type": "code",
   "execution_count": 13,
   "id": "f2bfaf6d",
   "metadata": {},
   "outputs": [
    {
     "data": {
      "text/plain": [
       "False"
      ]
     },
     "execution_count": 13,
     "metadata": {},
     "output_type": "execute_result"
    }
   ],
   "source": [
    "10<=10\n",
    "5>=6"
   ]
  },
  {
   "cell_type": "code",
   "execution_count": 19,
   "id": "35c56c42",
   "metadata": {},
   "outputs": [
    {
     "data": {
      "text/plain": [
       "True"
      ]
     },
     "execution_count": 19,
     "metadata": {},
     "output_type": "execute_result"
    }
   ],
   "source": [
    "#Alphabetical order\n",
    "# B = 2 and a = 1. so B>1. therefore True\n",
    "'Aayush'>'Basnet'\n",
    "'Basnet'>'Aayush'"
   ]
  },
  {
   "cell_type": "markdown",
   "id": "a617bc0b",
   "metadata": {},
   "source": [
    "# -Logical Operators"
   ]
  },
  {
   "cell_type": "code",
   "execution_count": 15,
   "id": "960eab64",
   "metadata": {},
   "outputs": [
    {
     "data": {
      "text/plain": [
       "True"
      ]
     },
     "execution_count": 15,
     "metadata": {},
     "output_type": "execute_result"
    }
   ],
   "source": [
    "5>3 and 4==4"
   ]
  },
  {
   "cell_type": "code",
   "execution_count": 17,
   "id": "0d9c6585",
   "metadata": {},
   "outputs": [
    {
     "data": {
      "text/plain": [
       "True"
      ]
     },
     "execution_count": 17,
     "metadata": {},
     "output_type": "execute_result"
    }
   ],
   "source": [
    "'Aayush' == 'Basnet' or 10>7"
   ]
  },
  {
   "cell_type": "code",
   "execution_count": 20,
   "id": "cb92af9f",
   "metadata": {},
   "outputs": [
    {
     "data": {
      "text/plain": [
       "False"
      ]
     },
     "execution_count": 20,
     "metadata": {},
     "output_type": "execute_result"
    }
   ],
   "source": [
    "not(10>5)"
   ]
  },
  {
   "cell_type": "markdown",
   "id": "fa5324c4",
   "metadata": {},
   "source": [
    "# -Membership Operators"
   ]
  },
  {
   "cell_type": "code",
   "execution_count": 21,
   "id": "3795a1ab",
   "metadata": {},
   "outputs": [
    {
     "data": {
      "text/plain": [
       "True"
      ]
     },
     "execution_count": 21,
     "metadata": {},
     "output_type": "execute_result"
    }
   ],
   "source": [
    "books = 'I love reading books'\n",
    "'love' in books"
   ]
  },
  {
   "cell_type": "code",
   "execution_count": 23,
   "id": "5b53771a",
   "metadata": {},
   "outputs": [
    {
     "data": {
      "text/plain": [
       "True"
      ]
     },
     "execution_count": 23,
     "metadata": {},
     "output_type": "execute_result"
    }
   ],
   "source": [
    "books = 'I love reading books'\n",
    "'hate'not in books"
   ]
  },
  {
   "cell_type": "code",
   "execution_count": 28,
   "id": "f917c474",
   "metadata": {},
   "outputs": [
    {
     "data": {
      "text/plain": [
       "True"
      ]
     },
     "execution_count": 28,
     "metadata": {},
     "output_type": "execute_result"
    }
   ],
   "source": [
    "lists = [2,3,4,5,6,7]\n",
    "lists.append(8)\n",
    "8 in lists"
   ]
  },
  {
   "cell_type": "code",
   "execution_count": null,
   "id": "91ce5de1",
   "metadata": {},
   "outputs": [],
   "source": []
  },
  {
   "cell_type": "markdown",
   "id": "6f444d53",
   "metadata": {},
   "source": [
    "# Conditions"
   ]
  },
  {
   "cell_type": "code",
   "execution_count": null,
   "id": "e89b350a",
   "metadata": {},
   "outputs": [],
   "source": [
    "# If-Elif-Else Statememt"
   ]
  },
  {
   "cell_type": "code",
   "execution_count": 2,
   "id": "f5b59322",
   "metadata": {},
   "outputs": [
    {
     "name": "stdout",
     "output_type": "stream",
     "text": [
      "True\n"
     ]
    }
   ],
   "source": [
    "if 23 > 10:\n",
    "    print('True')"
   ]
  },
  {
   "cell_type": "code",
   "execution_count": 1,
   "id": "7764ee2f",
   "metadata": {},
   "outputs": [
    {
     "name": "stdout",
     "output_type": "stream",
     "text": [
      "Less\n"
     ]
    }
   ],
   "source": [
    "if 23 > 40:\n",
    "    print('Greater')\n",
    "elif 23 < 40:\n",
    "    print('Less')\n",
    "else:\n",
    "    print('Equal')"
   ]
  },
  {
   "cell_type": "code",
   "execution_count": 39,
   "id": "48695e17",
   "metadata": {},
   "outputs": [
    {
     "name": "stdout",
     "output_type": "stream",
     "text": [
      "It worked\n"
     ]
    }
   ],
   "source": [
    "#ternary operator\n",
    "print('It worked') if 20<50 else print('It did not work.....')"
   ]
  },
  {
   "cell_type": "code",
   "execution_count": 15,
   "id": "ff40f557",
   "metadata": {},
   "outputs": [
    {
     "name": "stdout",
     "output_type": "stream",
     "text": [
      "Enter a number: -09\n",
      "Negative Number\n"
     ]
    }
   ],
   "source": [
    "n = int(input('Enter a number: '))\n",
    "print('Positive Number') if n>=0 else print('Negative Number')"
   ]
  },
  {
   "cell_type": "code",
   "execution_count": 8,
   "id": "49194676",
   "metadata": {},
   "outputs": [
    {
     "name": "stdout",
     "output_type": "stream",
     "text": [
      "Enter any number: 50\n",
      "It worked\n",
      "a is equal than 50\n"
     ]
    }
   ],
   "source": [
    "a = int(input('Enter any number: '))\n",
    "if (a>10) and (a<=50):\n",
    "    print('It worked')\n",
    "    if(a==50):\n",
    "        print('a is equal than 50')\n",
    "       \n",
    "elif(a<10 and a<50):\n",
    "    print('a is less than 10')\n",
    "else:\n",
    "    print('Not in range')"
   ]
  },
  {
   "cell_type": "code",
   "execution_count": 11,
   "id": "699b0d42",
   "metadata": {},
   "outputs": [
    {
     "name": "stdout",
     "output_type": "stream",
     "text": [
      "Enter number: 45\n",
      "Odd Number\n"
     ]
    }
   ],
   "source": [
    "# odd or Even number\n",
    "num = int(input('Enter number: '))\n",
    "if(num%2==0):\n",
    "    print('Even Number')\n",
    "else:\n",
    "    print('Odd Number')"
   ]
  },
  {
   "cell_type": "code",
   "execution_count": 12,
   "id": "6bcc2398",
   "metadata": {},
   "outputs": [
    {
     "name": "stdout",
     "output_type": "stream",
     "text": [
      "Enter your age: 18\n",
      "You are not eligible for voting\n"
     ]
    }
   ],
   "source": [
    "#Voter or not\n",
    "age = int(input('Enter your age: '))\n",
    "if(age>18):\n",
    "    print('You are eligible for voting')\n",
    "else:\n",
    "    print('You are not eligible for voting')"
   ]
  },
  {
   "cell_type": "code",
   "execution_count": 13,
   "id": "4a477a9a",
   "metadata": {},
   "outputs": [
    {
     "name": "stdout",
     "output_type": "stream",
     "text": [
      "Enter any character:p\n",
      "p is not vowel\n"
     ]
    }
   ],
   "source": [
    "#vowel or not\n",
    "char=input('Enter any character:')\n",
    "lowercase = int\n",
    "uppercase = int\n",
    "lowercase = (char =='a' or char=='e' or char=='i' or char =='o'or char =='u')\n",
    "uppercase = (char =='A' or char=='E' or char=='I' or char =='O'or char =='U')\n",
    "\n",
    "if(lowercase or uppercase):\n",
    "    print(f'{char} is vowel ')\n",
    "else:\n",
    "    print(f'{char} is not vowel')\n"
   ]
  },
  {
   "cell_type": "code",
   "execution_count": 14,
   "id": "2f874b7e",
   "metadata": {},
   "outputs": [
    {
     "name": "stdout",
     "output_type": "stream",
     "text": [
      "Enter a: 45\n",
      "Enter b: 60\n",
      "Enter c: 30\n",
      "b is greater than a an c\n"
     ]
    }
   ],
   "source": [
    "# greatest among three numebr\n",
    "a=int(input('Enter a: '))\n",
    "b=int(input('Enter b: '))\n",
    "c=int(input('Enter c: '))\n",
    "\n",
    "if(a>b) and (a>c):\n",
    "    print('a is greater than b and c')\n",
    "elif (b>a) and (b>c):\n",
    "    print('b is greater than a and c')\n",
    "else:\n",
    "    print('c is greater number')\n"
   ]
  },
  {
   "cell_type": "code",
   "execution_count": null,
   "id": "9c756bdf",
   "metadata": {},
   "outputs": [],
   "source": []
  },
  {
   "cell_type": "markdown",
   "id": "649c5f76",
   "metadata": {},
   "source": [
    "# Loops"
   ]
  },
  {
   "cell_type": "markdown",
   "id": "11486699",
   "metadata": {},
   "source": [
    "# - For loop"
   ]
  },
  {
   "cell_type": "code",
   "execution_count": 18,
   "id": "9c63e2ba",
   "metadata": {},
   "outputs": [],
   "source": [
    "number = [1,2,3,4,5]"
   ]
  },
  {
   "cell_type": "code",
   "execution_count": 31,
   "id": "3e500f65",
   "metadata": {},
   "outputs": [
    {
     "name": "stdout",
     "output_type": "stream",
     "text": [
      "1\n",
      "2\n",
      "3\n",
      "4\n",
      "5\n"
     ]
    }
   ],
   "source": [
    "for i in number:\n",
    "    print(i)"
   ]
  },
  {
   "cell_type": "code",
   "execution_count": 21,
   "id": "17327646",
   "metadata": {},
   "outputs": [
    {
     "name": "stdout",
     "output_type": "stream",
     "text": [
      "Hello World\n",
      "Hello World\n",
      "Hello World\n",
      "Hello World\n",
      "Hello World\n"
     ]
    }
   ],
   "source": [
    "for i in number:\n",
    "    print('Hello World')"
   ]
  },
  {
   "cell_type": "code",
   "execution_count": 24,
   "id": "b3907af0",
   "metadata": {},
   "outputs": [],
   "source": [
    "details = {'Name':'Aayush Basnet','Age':20,'Skills':['SQL','PowerBI','MS Excel','Tableau','Python']}"
   ]
  },
  {
   "cell_type": "code",
   "execution_count": 26,
   "id": "f5e1388c",
   "metadata": {},
   "outputs": [
    {
     "name": "stdout",
     "output_type": "stream",
     "text": [
      "Aayush Basnet\n",
      "20\n",
      "['SQL', 'PowerBI', 'MS Excel', 'Tableau', 'Python']\n"
     ]
    }
   ],
   "source": [
    "for i in details.values():\n",
    "    print(i)"
   ]
  },
  {
   "cell_type": "code",
   "execution_count": 27,
   "id": "f87a6407",
   "metadata": {},
   "outputs": [
    {
     "name": "stdout",
     "output_type": "stream",
     "text": [
      "Name -> Aayush Basnet\n",
      "Age -> 20\n",
      "Skills -> ['SQL', 'PowerBI', 'MS Excel', 'Tableau', 'Python']\n"
     ]
    }
   ],
   "source": [
    "for i,j in details.items():\n",
    "    print(i,'->',j)"
   ]
  },
  {
   "cell_type": "code",
   "execution_count": 29,
   "id": "e8557814",
   "metadata": {},
   "outputs": [],
   "source": [
    "days= ['Sunday','Monday','Tuesday','Wednesday','Thursday','Friday','Saturday']"
   ]
  },
  {
   "cell_type": "code",
   "execution_count": 30,
   "id": "239d9924",
   "metadata": {},
   "outputs": [
    {
     "name": "stdout",
     "output_type": "stream",
     "text": [
      "Sunday\n",
      "Monday\n",
      "Tuesday\n",
      "Wednesday\n",
      "Thursday\n",
      "Friday\n",
      "Saturday\n"
     ]
    }
   ],
   "source": [
    "for i in days:\n",
    "    print(i)"
   ]
  },
  {
   "cell_type": "code",
   "execution_count": 32,
   "id": "f9ee9b3e",
   "metadata": {},
   "outputs": [
    {
     "name": "stdout",
     "output_type": "stream",
     "text": [
      "0 Aayush\n",
      "1 Aayush\n",
      "2 Aayush\n",
      "3 Aayush\n",
      "4 Aayush\n",
      "5 Aayush\n",
      "6 Aayush\n",
      "7 Aayush\n",
      "8 Aayush\n",
      "9 Aayush\n"
     ]
    }
   ],
   "source": [
    "#print upto 10 times where j = 0,1,2,........\n",
    "for j in range(10):\n",
    "    print(j,'Aayush')"
   ]
  },
  {
   "cell_type": "code",
   "execution_count": 33,
   "id": "a05e5b3e",
   "metadata": {},
   "outputs": [
    {
     "name": "stdout",
     "output_type": "stream",
     "text": [
      "20\n",
      "22\n",
      "24\n",
      "26\n",
      "28\n"
     ]
    }
   ],
   "source": [
    "#from 20 to 30 with difference of 2\n",
    "for i in range(20,30,2):\n",
    "    print(i)"
   ]
  },
  {
   "cell_type": "code",
   "execution_count": 37,
   "id": "8a09aa42",
   "metadata": {},
   "outputs": [
    {
     "name": "stdout",
     "output_type": "stream",
     "text": [
      "A for Apple\n",
      "A for Ball\n",
      "A for Cat\n",
      "A for Dog\n",
      "B for Apple\n",
      "B for Ball\n",
      "B for Cat\n",
      "B for Dog\n",
      "C for Apple\n",
      "C for Ball\n",
      "C for Cat\n",
      "C for Dog\n",
      "D for Apple\n",
      "D for Ball\n",
      "D for Cat\n",
      "D for Dog\n"
     ]
    }
   ],
   "source": [
    "#nested for loop\n",
    "symbol = ['A','B','C','D']\n",
    "name = ['Apple','Ball','Cat','Dog']\n",
    "\n",
    "for i in symbol:\n",
    "    for j in name:\n",
    "        print(i,'for',j)"
   ]
  },
  {
   "cell_type": "markdown",
   "id": "549cdf22",
   "metadata": {},
   "source": [
    "# - While loop"
   ]
  },
  {
   "cell_type": "code",
   "execution_count": 4,
   "id": "5f0798a5",
   "metadata": {},
   "outputs": [
    {
     "name": "stdout",
     "output_type": "stream",
     "text": [
      "0\n",
      "1\n",
      "2\n",
      "3\n",
      "4\n",
      "5\n",
      "6\n",
      "7\n",
      "8\n",
      "9\n"
     ]
    }
   ],
   "source": [
    "i = 0\n",
    "while i<10:\n",
    "    print(i)\n",
    "    i= i+1"
   ]
  },
  {
   "cell_type": "code",
   "execution_count": 6,
   "id": "55302adc",
   "metadata": {},
   "outputs": [
    {
     "name": "stdout",
     "output_type": "stream",
     "text": [
      "0\n",
      "1\n",
      "2\n",
      "3\n",
      "4\n"
     ]
    }
   ],
   "source": [
    "i=0\n",
    "while i<10:\n",
    "    print(i)\n",
    "    if i==4:\n",
    "        break\n",
    "    i=i+1"
   ]
  },
  {
   "cell_type": "code",
   "execution_count": 9,
   "id": "77a975bc",
   "metadata": {},
   "outputs": [
    {
     "name": "stdout",
     "output_type": "stream",
     "text": [
      "0\n",
      "1\n",
      "2\n",
      "3\n",
      "4\n",
      "No break in loops\n"
     ]
    }
   ],
   "source": [
    "i=0\n",
    "while i<5:\n",
    "    print(i)\n",
    "    if i==6:\n",
    "        break\n",
    "    i=i+1\n",
    "else:\n",
    "    print('No break in loops')"
   ]
  },
  {
   "cell_type": "code",
   "execution_count": 12,
   "id": "6039f584",
   "metadata": {},
   "outputs": [
    {
     "name": "stdout",
     "output_type": "stream",
     "text": [
      "1\n",
      "2\n",
      "3\n",
      "5\n",
      "No break in loops\n"
     ]
    }
   ],
   "source": [
    "i=0\n",
    "while i<5:\n",
    "    i=i+1\n",
    "    if i==4:\n",
    "        continue\n",
    "    print(i)\n",
    "else:\n",
    "    print('No break in loops')"
   ]
  },
  {
   "cell_type": "code",
   "execution_count": null,
   "id": "1ff2a6b1",
   "metadata": {},
   "outputs": [],
   "source": []
  },
  {
   "cell_type": "markdown",
   "id": "580a12d8",
   "metadata": {},
   "source": [
    "# Function"
   ]
  },
  {
   "cell_type": "code",
   "execution_count": 13,
   "id": "1e7791e7",
   "metadata": {},
   "outputs": [],
   "source": [
    "def first_fun():\n",
    "    print('Hello World')"
   ]
  },
  {
   "cell_type": "code",
   "execution_count": 15,
   "id": "2cc05324",
   "metadata": {},
   "outputs": [
    {
     "name": "stdout",
     "output_type": "stream",
     "text": [
      "Hello World\n"
     ]
    }
   ],
   "source": [
    "first_fun()"
   ]
  },
  {
   "cell_type": "code",
   "execution_count": 25,
   "id": "0f59efc5",
   "metadata": {},
   "outputs": [],
   "source": [
    "def square_number(number, power):\n",
    "    print(number**power)"
   ]
  },
  {
   "cell_type": "code",
   "execution_count": 26,
   "id": "0212ae28",
   "metadata": {},
   "outputs": [
    {
     "name": "stdout",
     "output_type": "stream",
     "text": [
      "16\n"
     ]
    }
   ],
   "source": [
    "square_number(4,2)"
   ]
  },
  {
   "cell_type": "code",
   "execution_count": 1,
   "id": "491a419f",
   "metadata": {},
   "outputs": [
    {
     "data": {
      "text/plain": [
       "9"
      ]
     },
     "execution_count": 1,
     "metadata": {},
     "output_type": "execute_result"
    }
   ],
   "source": [
    "def my_fun(arg1, arg2):\n",
    "    return arg1+arg2\n",
    "\n",
    "my_fun(4,5)"
   ]
  },
  {
   "cell_type": "code",
   "execution_count": 3,
   "id": "cc78cad1",
   "metadata": {},
   "outputs": [
    {
     "data": {
      "text/plain": [
       "35"
      ]
     },
     "execution_count": 3,
     "metadata": {},
     "output_type": "execute_result"
    }
   ],
   "source": [
    "def sum_items  (x,y,z, print_arg = False):\n",
    "    if print_arg:\n",
    "        print(x,y,z)\n",
    "    return x+y+z\n",
    "\n",
    "\n",
    "sum_items(10,5,20)"
   ]
  },
  {
   "cell_type": "code",
   "execution_count": 4,
   "id": "b6d68400",
   "metadata": {},
   "outputs": [
    {
     "name": "stdout",
     "output_type": "stream",
     "text": [
      "10 5 20\n"
     ]
    },
    {
     "data": {
      "text/plain": [
       "35"
      ]
     },
     "execution_count": 4,
     "metadata": {},
     "output_type": "execute_result"
    }
   ],
   "source": [
    "sum_items(10,5,20,True)"
   ]
  },
  {
   "cell_type": "code",
   "execution_count": 32,
   "id": "506df5ff",
   "metadata": {},
   "outputs": [],
   "source": [
    "tuple_arg=(3,4,5,6,5,7,8,0)\n",
    "\n",
    "def number_argument(*number):\n",
    "    print(number[1]*number[2])"
   ]
  },
  {
   "cell_type": "code",
   "execution_count": 33,
   "id": "86c0da4f",
   "metadata": {},
   "outputs": [
    {
     "name": "stdout",
     "output_type": "stream",
     "text": [
      "20\n"
     ]
    }
   ],
   "source": [
    "number_argument(*tuple_arg)"
   ]
  },
  {
   "cell_type": "code",
   "execution_count": 5,
   "id": "9d657457",
   "metadata": {},
   "outputs": [
    {
     "name": "stdout",
     "output_type": "stream",
     "text": [
      "<class 'tuple'>\n"
     ]
    },
    {
     "data": {
      "text/plain": [
       "15"
      ]
     },
     "execution_count": 5,
     "metadata": {},
     "output_type": "execute_result"
    }
   ],
   "source": [
    "def sum_many_arg(*args):\n",
    "    print(type(args))\n",
    "    return(sum(args))\n",
    "\n",
    "sum_many_arg(2,3,4,1,5)"
   ]
  },
  {
   "cell_type": "code",
   "execution_count": 34,
   "id": "a489f0a1",
   "metadata": {},
   "outputs": [],
   "source": [
    "def power_number(number,power):\n",
    "    print(number**power)"
   ]
  },
  {
   "cell_type": "code",
   "execution_count": 36,
   "id": "0f0ed7f9",
   "metadata": {},
   "outputs": [
    {
     "name": "stdout",
     "output_type": "stream",
     "text": [
      "32\n"
     ]
    }
   ],
   "source": [
    "power_number(power= 5,number=2)"
   ]
  },
  {
   "cell_type": "code",
   "execution_count": 39,
   "id": "89804468",
   "metadata": {},
   "outputs": [],
   "source": [
    "def number_kwarg(**number):\n",
    "    print('My number is: '+number['integer']+'\\n My another number is: '+number['integer2'])"
   ]
  },
  {
   "cell_type": "code",
   "execution_count": 40,
   "id": "ca155937",
   "metadata": {},
   "outputs": [
    {
     "name": "stdout",
     "output_type": "stream",
     "text": [
      "My number is: 1111\n",
      " My another number is: 1112\n"
     ]
    }
   ],
   "source": [
    "number_kwarg(integer ='1111',integer2='1112')"
   ]
  },
  {
   "cell_type": "code",
   "execution_count": 7,
   "id": "65c2e897",
   "metadata": {},
   "outputs": [
    {
     "name": "stdout",
     "output_type": "stream",
     "text": [
      "<class 'dict'>\n"
     ]
    },
    {
     "data": {
      "text/plain": [
       "110"
      ]
     },
     "execution_count": 7,
     "metadata": {},
     "output_type": "execute_result"
    }
   ],
   "source": [
    "def sum_kwarg(**kwargs):\n",
    "    print(type(kwargs))\n",
    "    return (sum(kwargs.values()))\n",
    "\n",
    "sum_kwarg(mynum=100, yournum = 10)"
   ]
  },
  {
   "cell_type": "code",
   "execution_count": 9,
   "id": "d7187f37",
   "metadata": {},
   "outputs": [
    {
     "data": {
      "text/plain": [
       "2.0"
      ]
     },
     "execution_count": 9,
     "metadata": {},
     "output_type": "execute_result"
    }
   ],
   "source": [
    "import numpy as np\n",
    "def rmse(num1, num2):\n",
    "    return (np.sqrt(np.mean((num2-num1)**2)))\n",
    "\n",
    "rmse(4,6)"
   ]
  },
  {
   "cell_type": "code",
   "execution_count": 10,
   "id": "a9b6457f",
   "metadata": {},
   "outputs": [
    {
     "data": {
      "text/plain": [
       "9"
      ]
     },
     "execution_count": 10,
     "metadata": {},
     "output_type": "execute_result"
    }
   ],
   "source": [
    "my_function = lambda x,y: x+y\n",
    "my_function(5,4)"
   ]
  },
  {
   "cell_type": "code",
   "execution_count": 12,
   "id": "97b69455",
   "metadata": {},
   "outputs": [
    {
     "name": "stdout",
     "output_type": "stream",
     "text": [
      "1\n",
      "4\n",
      "9\n",
      "16\n",
      "25\n"
     ]
    }
   ],
   "source": [
    "# Example of using map() without a lamda funciton\n",
    "\n",
    "def square(x):\n",
    "    return x**2\n",
    "\n",
    "my_map = map(square,[1,2,3,4,5])\n",
    "\n",
    "for item in my_map:\n",
    "    print(item)"
   ]
  },
  {
   "cell_type": "code",
   "execution_count": 14,
   "id": "8028ab49",
   "metadata": {},
   "outputs": [
    {
     "data": {
      "text/plain": [
       "4"
      ]
     },
     "execution_count": 14,
     "metadata": {},
     "output_type": "execute_result"
    }
   ],
   "source": [
    "my_map= lambda x : x**2\n",
    "\n",
    "my_map(2)"
   ]
  },
  {
   "cell_type": "code",
   "execution_count": 15,
   "id": "3102eb39",
   "metadata": {},
   "outputs": [
    {
     "name": "stdout",
     "output_type": "stream",
     "text": [
      "1\n",
      "4\n",
      "9\n",
      "16\n",
      "25\n"
     ]
    }
   ],
   "source": [
    "# Example of using map() with a lambda function\n",
    "my_map= map(lambda x : x**2,[1,2,3,4,5])\n",
    "\n",
    "for item in my_map:\n",
    "    print(item)"
   ]
  },
  {
   "cell_type": "markdown",
   "id": "5804f6f6",
   "metadata": {},
   "source": [
    "# Converting Data Types"
   ]
  },
  {
   "cell_type": "code",
   "execution_count": 41,
   "id": "88adf0f5",
   "metadata": {},
   "outputs": [
    {
     "data": {
      "text/plain": [
       "int"
      ]
     },
     "execution_count": 41,
     "metadata": {},
     "output_type": "execute_result"
    }
   ],
   "source": [
    "int_num = 7\n",
    "type(int_num)"
   ]
  },
  {
   "cell_type": "code",
   "execution_count": 42,
   "id": "0d954061",
   "metadata": {},
   "outputs": [
    {
     "data": {
      "text/plain": [
       "str"
      ]
     },
     "execution_count": 42,
     "metadata": {},
     "output_type": "execute_result"
    }
   ],
   "source": [
    "str_num = '4'\n",
    "type(str_num)"
   ]
  },
  {
   "cell_type": "code",
   "execution_count": 44,
   "id": "d41fdf0f",
   "metadata": {},
   "outputs": [
    {
     "data": {
      "text/plain": [
       "int"
      ]
     },
     "execution_count": 44,
     "metadata": {},
     "output_type": "execute_result"
    }
   ],
   "source": [
    "# Converting string into integer\n",
    "int_num_cov = int(str_num)\n",
    "type(int_num_cov)"
   ]
  },
  {
   "cell_type": "code",
   "execution_count": 45,
   "id": "254c5a9d",
   "metadata": {},
   "outputs": [
    {
     "name": "stdout",
     "output_type": "stream",
     "text": [
      "11\n"
     ]
    }
   ],
   "source": [
    "sum = int_num + int_num_cov\n",
    "print(sum)"
   ]
  },
  {
   "cell_type": "code",
   "execution_count": 46,
   "id": "03b2cfe3",
   "metadata": {},
   "outputs": [
    {
     "data": {
      "text/plain": [
       "int"
      ]
     },
     "execution_count": 46,
     "metadata": {},
     "output_type": "execute_result"
    }
   ],
   "source": [
    "type(sum)"
   ]
  },
  {
   "cell_type": "code",
   "execution_count": 52,
   "id": "3cfb2cea",
   "metadata": {},
   "outputs": [
    {
     "data": {
      "text/plain": [
       "list"
      ]
     },
     "execution_count": 52,
     "metadata": {},
     "output_type": "execute_result"
    }
   ],
   "source": [
    "list_type = [1,2,3,4,5,63,4,5,6]\n",
    "type(list_type)"
   ]
  },
  {
   "cell_type": "code",
   "execution_count": 48,
   "id": "75e89138",
   "metadata": {},
   "outputs": [
    {
     "data": {
      "text/plain": [
       "tuple"
      ]
     },
     "execution_count": 48,
     "metadata": {},
     "output_type": "execute_result"
    }
   ],
   "source": [
    "tuple(list_type)\n",
    "type(tuple(list_type))"
   ]
  },
  {
   "cell_type": "code",
   "execution_count": 50,
   "id": "c2ac3551",
   "metadata": {},
   "outputs": [
    {
     "data": {
      "text/plain": [
       "set"
      ]
     },
     "execution_count": 50,
     "metadata": {},
     "output_type": "execute_result"
    }
   ],
   "source": [
    "set(list_type)\n",
    "type(set(list_type))"
   ]
  },
  {
   "cell_type": "code",
   "execution_count": 53,
   "id": "9f271a2a",
   "metadata": {},
   "outputs": [
    {
     "name": "stdout",
     "output_type": "stream",
     "text": [
      "{1, 2, 3, 4, 5, 6, 63}\n"
     ]
    }
   ],
   "source": [
    "print(set(list_type))"
   ]
  },
  {
   "cell_type": "code",
   "execution_count": 54,
   "id": "23f8c5e4",
   "metadata": {},
   "outputs": [
    {
     "data": {
      "text/plain": [
       "dict"
      ]
     },
     "execution_count": 54,
     "metadata": {},
     "output_type": "execute_result"
    }
   ],
   "source": [
    "dict_type={'Name':'Aayush','Age':'20'}\n",
    "type(dict_type)"
   ]
  },
  {
   "cell_type": "code",
   "execution_count": 55,
   "id": "3a98b27e",
   "metadata": {},
   "outputs": [
    {
     "data": {
      "text/plain": [
       "dict_items([('Name', 'Aayush'), ('Age', '20')])"
      ]
     },
     "execution_count": 55,
     "metadata": {},
     "output_type": "execute_result"
    }
   ],
   "source": [
    "dict_type.items()"
   ]
  },
  {
   "cell_type": "code",
   "execution_count": 56,
   "id": "841c8e5a",
   "metadata": {},
   "outputs": [
    {
     "data": {
      "text/plain": [
       "dict_values(['Aayush', '20'])"
      ]
     },
     "execution_count": 56,
     "metadata": {},
     "output_type": "execute_result"
    }
   ],
   "source": [
    "dict_type.values()"
   ]
  },
  {
   "cell_type": "code",
   "execution_count": 58,
   "id": "39e89f62",
   "metadata": {},
   "outputs": [
    {
     "data": {
      "text/plain": [
       "list"
      ]
     },
     "execution_count": 58,
     "metadata": {},
     "output_type": "execute_result"
    }
   ],
   "source": [
    "type(list(dict_type.keys()))"
   ]
  },
  {
   "cell_type": "code",
   "execution_count": 59,
   "id": "cf23cb49",
   "metadata": {},
   "outputs": [
    {
     "data": {
      "text/plain": [
       "{' ', 'I', 'a', 'b', 'd', 'e', 'i', 'k', 'l', 'o', 'r', 's', 't'}"
      ]
     },
     "execution_count": 59,
     "metadata": {},
     "output_type": "execute_result"
    }
   ],
   "source": [
    "long_stn='I like to read books'\n",
    "set(long_stn)"
   ]
  },
  {
   "cell_type": "code",
   "execution_count": 60,
   "id": "86489e20",
   "metadata": {},
   "outputs": [
    {
     "name": "stdout",
     "output_type": "stream",
     "text": [
      "Name -> Aayush\n",
      "Age -> 20\n"
     ]
    }
   ],
   "source": [
    "for i,j in dict_type.items():\n",
    "    print(i,'->',j)"
   ]
  },
  {
   "cell_type": "markdown",
   "id": "9b37d1f4",
   "metadata": {},
   "source": [
    "# List Comprehensions"
   ]
  },
  {
   "cell_type": "code",
   "execution_count": 16,
   "id": "f85e2f55",
   "metadata": {},
   "outputs": [
    {
     "name": "stdout",
     "output_type": "stream",
     "text": [
      "[0, 1, 2, 3, 4, 5, 6, 7, 8, 9, 10, 11, 12, 13, 14, 15, 16, 17, 18, 19, 20, 21, 22, 23, 24, 25, 26, 27, 28, 29, 30, 31, 32, 33, 34, 35, 36, 37, 38, 39, 40, 41, 42, 43, 44, 45, 46, 47, 48, 49, 50, 51, 52, 53, 54, 55, 56, 57, 58, 59, 60, 61, 62, 63, 64, 65, 66, 67, 68, 69, 70, 71, 72, 73, 74, 75, 76, 77, 78, 79, 80, 81, 82, 83, 84, 85, 86, 87, 88, 89, 90, 91, 92, 93, 94, 95, 96, 97, 98, 99, 100]\n"
     ]
    }
   ],
   "source": [
    "my_list = []\n",
    "\n",
    "for number in range(0,101):\n",
    "    my_list.append(number)\n",
    "    \n",
    "print(my_list)"
   ]
  },
  {
   "cell_type": "code",
   "execution_count": 18,
   "id": "3676b9f0",
   "metadata": {},
   "outputs": [
    {
     "name": "stdout",
     "output_type": "stream",
     "text": [
      "[0, 1, 2, 3, 4, 5, 6, 7, 8, 9, 10, 11, 12, 13, 14, 15, 16, 17, 18, 19, 20, 21, 22, 23, 24, 25, 26, 27, 28, 29, 30, 31, 32, 33, 34, 35, 36, 37, 38, 39, 40, 41, 42, 43, 44, 45, 46, 47, 48, 49, 50, 51, 52, 53, 54, 55, 56, 57, 58, 59, 60, 61, 62, 63, 64, 65, 66, 67, 68, 69, 70, 71, 72, 73, 74, 75, 76, 77, 78, 79, 80, 81, 82, 83, 84, 85, 86, 87, 88, 89, 90, 91, 92, 93, 94, 95, 96, 97, 98, 99, 100]\n"
     ]
    }
   ],
   "source": [
    "my_list2 = [number for number in range(0,101)]\n",
    "\n",
    "print(my_list2)"
   ]
  },
  {
   "cell_type": "code",
   "execution_count": 19,
   "id": "f226fdd8",
   "metadata": {},
   "outputs": [
    {
     "name": "stdout",
     "output_type": "stream",
     "text": [
      "[0, 2, 4, 6, 8, 10, 12, 14, 16, 18, 20, 22, 24, 26, 28, 30, 32, 34, 36, 38, 40, 42, 44, 46, 48, 50, 52, 54, 56, 58, 60, 62, 64, 66, 68, 70, 72, 74, 76, 78, 80, 82, 84, 86, 88, 90, 92, 94, 96, 98, 100]\n"
     ]
    }
   ],
   "source": [
    "my_list3 = [number for number in range(0,101) if number%2==0]\n",
    "\n",
    "print(my_list3)"
   ]
  },
  {
   "cell_type": "code",
   "execution_count": 20,
   "id": "bbc3a919",
   "metadata": {},
   "outputs": [
    {
     "name": "stdout",
     "output_type": "stream",
     "text": [
      "['ls', 'lt', 'lu', 'ld', 'ly', 'is', 'it', 'iu', 'id', 'iy', 'fs', 'ft', 'fu', 'fd', 'fy', 'es', 'et', 'eu', 'ed', 'ey']\n"
     ]
    }
   ],
   "source": [
    "combined = [a+b for a in 'life' for b in 'study']\n",
    "\n",
    "print(combined)"
   ]
  },
  {
   "cell_type": "code",
   "execution_count": 23,
   "id": "c568dbc5",
   "metadata": {},
   "outputs": [
    {
     "name": "stdout",
     "output_type": "stream",
     "text": [
      "['s', 't', 'u', 'd', 'y', 's', 't', 'u', 'd', 'y', 's', 't', 'u', 'd', 'y', 's', 't', 'u', 'd', 'y']\n"
     ]
    }
   ],
   "source": [
    "nested = [letters[1] for letters in [a+b for a in 'life' for b in 'study']]\n",
    "\n",
    "print(nested)"
   ]
  },
  {
   "cell_type": "code",
   "execution_count": 24,
   "id": "7126b1aa",
   "metadata": {},
   "outputs": [
    {
     "name": "stdout",
     "output_type": "stream",
     "text": [
      "['s', 't', 'u', 'd', 'y', 's', 't', 'u', 'd', 'y', 's', 't', 'u', 'd', 'y', 's', 't', 'u', 'd', 'y']\n"
     ]
    }
   ],
   "source": [
    "combined = [a+b for a in 'life' for b in 'study']\n",
    "\n",
    "non_nested = [letters[1] for letters in combined]\n",
    "\n",
    "print(non_nested)"
   ]
  },
  {
   "cell_type": "markdown",
   "id": "d073abf1",
   "metadata": {},
   "source": [
    "# Dictionary Comprehensions"
   ]
  },
  {
   "cell_type": "code",
   "execution_count": 27,
   "id": "fa9393b4",
   "metadata": {},
   "outputs": [
    {
     "name": "stdout",
     "output_type": "stream",
     "text": [
      "{'life': 4, 'is': 2, 'beautiful': 9}\n"
     ]
    }
   ],
   "source": [
    "words = ['life','is','beautiful']\n",
    "\n",
    "words_length_dict={}\n",
    "\n",
    "for word in words:\n",
    "    words_length_dict[word] = len(word)\n",
    "    \n",
    "print(words_length_dict)"
   ]
  },
  {
   "cell_type": "code",
   "execution_count": 29,
   "id": "8ae782c5",
   "metadata": {},
   "outputs": [
    {
     "name": "stdout",
     "output_type": "stream",
     "text": [
      "{'life': 4, 'is': 2, 'beautiful': 9}\n"
     ]
    }
   ],
   "source": [
    "words = ['life','is','beautiful']\n",
    "\n",
    "word_length_dict = {word: len(word) for word in words}\n",
    "\n",
    "print(word_length_dict)"
   ]
  },
  {
   "cell_type": "code",
   "execution_count": 31,
   "id": "48315aed",
   "metadata": {},
   "outputs": [
    {
     "name": "stdout",
     "output_type": "stream",
     "text": [
      "('life', 4)\n",
      "('is', 2)\n",
      "('beautiful', 9)\n"
     ]
    }
   ],
   "source": [
    "words = ['life','is','beautiful']\n",
    "word_length= [4,2,9]\n",
    "pairs = zip(words,word_length)\n",
    "\n",
    "for item in pairs:\n",
    "    print(item)"
   ]
  },
  {
   "cell_type": "code",
   "execution_count": 33,
   "id": "204b6678",
   "metadata": {},
   "outputs": [
    {
     "name": "stdout",
     "output_type": "stream",
     "text": [
      "{'life': 4, 'is': 2, 'beautiful': 9}\n"
     ]
    }
   ],
   "source": [
    "words = ['life','is','beautiful']\n",
    "word_length= [4,2,9]\n",
    "\n",
    "word_dict = {key:value for (key,value) in zip(words,word_length)}\n",
    "\n",
    "print(word_dict)"
   ]
  }
 ],
 "metadata": {
  "kernelspec": {
   "display_name": "Python 3 (ipykernel)",
   "language": "python",
   "name": "python3"
  },
  "language_info": {
   "codemirror_mode": {
    "name": "ipython",
    "version": 3
   },
   "file_extension": ".py",
   "mimetype": "text/x-python",
   "name": "python",
   "nbconvert_exporter": "python",
   "pygments_lexer": "ipython3",
   "version": "3.11.5"
  }
 },
 "nbformat": 4,
 "nbformat_minor": 5
}
