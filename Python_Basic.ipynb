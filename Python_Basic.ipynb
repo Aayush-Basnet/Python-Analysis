{
 "cells": [
  {
   "cell_type": "markdown",
   "id": "c84f41f6",
   "metadata": {},
   "source": [
    "# Python For Data Analyst"
   ]
  },
  {
   "cell_type": "code",
   "execution_count": 3,
   "id": "0f60c7a1",
   "metadata": {},
   "outputs": [
    {
     "name": "stdout",
     "output_type": "stream",
     "text": [
      "Hello World\n"
     ]
    }
   ],
   "source": [
    "print('Hello World')"
   ]
  },
  {
   "cell_type": "code",
   "execution_count": 35,
   "id": "be841c50",
   "metadata": {},
   "outputs": [
    {
     "data": {
      "text/plain": [
       "str"
      ]
     },
     "execution_count": 35,
     "metadata": {},
     "output_type": "execute_result"
    }
   ],
   "source": [
    "a= 5\n",
    "b ='Hello World'\n",
    "type(b)\n",
    "\n"
   ]
  },
  {
   "cell_type": "code",
   "execution_count": 17,
   "id": "4d5e3f98",
   "metadata": {},
   "outputs": [
    {
     "name": "stdout",
     "output_type": "stream",
     "text": [
      "sum is 15\n",
      "Difference is 5\n"
     ]
    }
   ],
   "source": [
    "a = 10\n",
    "b= 5\n",
    "sum = a+b\n",
    "Diff = a-b\n",
    "print(f\"sum is {sum}\")\n",
    "print(f\"Difference is {Diff}\")"
   ]
  },
  {
   "cell_type": "code",
   "execution_count": 24,
   "id": "e104d996",
   "metadata": {},
   "outputs": [
    {
     "name": "stdout",
     "output_type": "stream",
     "text": [
      "Enter value of a: 6\n",
      "Enter value of b: 4\n",
      "Sum is 10\n",
      "Difference is 2\n"
     ]
    }
   ],
   "source": [
    "a = int(input(\"Enter value of a: \"))\n",
    "b = int(input(\"Enter value of b: \"))\n",
    "sum = a+b\n",
    "Diff = a-b\n",
    "print(f\"Sum is {sum}\")\n",
    "print(f\"Difference is {Diff}\")"
   ]
  },
  {
   "cell_type": "markdown",
   "id": "42726f9c",
   "metadata": {},
   "source": [
    "# Variables and Types"
   ]
  },
  {
   "cell_type": "code",
   "execution_count": 23,
   "id": "559ef783",
   "metadata": {},
   "outputs": [
    {
     "name": "stdout",
     "output_type": "stream",
     "text": [
      "<class 'int'>\n",
      "<class 'float'>\n",
      "<class 'str'>\n",
      "<class 'complex'>\n",
      "<class 'bool'>\n"
     ]
    }
   ],
   "source": [
    "a = 10\n",
    "b = 4.5\n",
    "c= 'Hello World'\n",
    "d = 3+2j\n",
    "e = True\n",
    "print(type(a))\n",
    "print(type(b))\n",
    "print(type(c))\n",
    "print(type(d))\n",
    "print(type(e))"
   ]
  },
  {
   "cell_type": "code",
   "execution_count": 45,
   "id": "5fd66c5a",
   "metadata": {},
   "outputs": [
    {
     "name": "stdout",
     "output_type": "stream",
     "text": [
      "Sum is 6.4\n",
      "Addition is (5+1j)\n",
      "<class 'float'>\n",
      "<class 'int'>\n",
      "True\n",
      "<class 'complex'>\n",
      "<class 'bool'>\n",
      "Enter your name: Aayush Basnet\n",
      "Hello Aayush Basnet!\n"
     ]
    }
   ],
   "source": [
    "a = 2.4\n",
    "b = 4\n",
    "c = 3+2j\n",
    "d = 2-1j\n",
    "e = True\n",
    "\n",
    "sum = a+b\n",
    "add = c+d\n",
    "\n",
    "print(f\"Sum is {sum}\")\n",
    "print(f\"Addition is {add}\")\n",
    "print(type(a))\n",
    "print(type(b))\n",
    "print(e)\n",
    "print(type(c))\n",
    "print(type(e))\n",
    "\n",
    "name = input(\"Enter your name: \")\n",
    "print(f\"Hello {name}!\")"
   ]
  },
  {
   "cell_type": "code",
   "execution_count": null,
   "id": "235921ed",
   "metadata": {},
   "outputs": [],
   "source": [
    " x= 'Hello world'\n",
    "    \n",
    "print(x)\n",
    "type(x)"
   ]
  },
  {
   "cell_type": "code",
   "execution_count": 33,
   "id": "0b79b302",
   "metadata": {},
   "outputs": [
    {
     "name": "stdout",
     "output_type": "stream",
     "text": [
      "Apple\n",
      "Ball\n",
      "Cat\n"
     ]
    }
   ],
   "source": [
    "x,y,z = 'Apple','Ball','Cat'\n",
    "print(x)\n",
    "print(y)\n",
    "print(z)\n"
   ]
  },
  {
   "cell_type": "code",
   "execution_count": 34,
   "id": "16512b10",
   "metadata": {},
   "outputs": [
    {
     "name": "stdout",
     "output_type": "stream",
     "text": [
      "Cat\n",
      "Ball\n"
     ]
    }
   ],
   "source": [
    "x,y,x = 'Apple','Ball','Cat'\n",
    "print(x)\n",
    "print(y)"
   ]
  },
  {
   "cell_type": "code",
   "execution_count": 12,
   "id": "fce69d6d",
   "metadata": {},
   "outputs": [
    {
     "name": "stdout",
     "output_type": "stream",
     "text": [
      "My name is Aayush Basnet.\n"
     ]
    }
   ],
   "source": [
    "x = 'My name is '+'Aayush Basnet.'\n",
    "print(x)"
   ]
  },
  {
   "cell_type": "code",
   "execution_count": 11,
   "id": "9ba3aa48",
   "metadata": {},
   "outputs": [
    {
     "name": "stdout",
     "output_type": "stream",
     "text": [
      "My name is Aayush Basnet.\n"
     ]
    }
   ],
   "source": [
    "x = 'My name '\n",
    "y = 'is '\n",
    "z = 'Aayush Basnet.'\n",
    "print(x+y+z)"
   ]
  },
  {
   "cell_type": "code",
   "execution_count": 13,
   "id": "7f180fd6",
   "metadata": {},
   "outputs": [
    {
     "name": "stdout",
     "output_type": "stream",
     "text": [
      "Data Analyst 200000\n"
     ]
    }
   ],
   "source": [
    "A = 'Data Analyst'\n",
    "B = 200000\n",
    "print(A,B)"
   ]
  },
  {
   "cell_type": "markdown",
   "id": "33a76a31",
   "metadata": {},
   "source": [
    "# Lists\n"
   ]
  },
  {
   "cell_type": "code",
   "execution_count": 50,
   "id": "f4fba039",
   "metadata": {},
   "outputs": [
    {
     "name": "stdout",
     "output_type": "stream",
     "text": [
      "['Sunday', 'Monday', 'Tuesday', 'Wednesday', 'Thrusday', 'Friday', 'Saturday']\n",
      "Wednesday\n",
      "Sunny Day\n"
     ]
    }
   ],
   "source": [
    "# Lists []\n",
    "days = ['Sunday','Monday','Tuesday','Wednesday','Thrusday','Friday','Saturday']\n",
    "print(days)\n",
    "days[0] = 'Sunny Day'\n",
    "print(days[3])\n",
    "print(days[0])"
   ]
  },
  {
   "cell_type": "code",
   "execution_count": 56,
   "id": "ac2b7173",
   "metadata": {},
   "outputs": [
    {
     "name": "stdout",
     "output_type": "stream",
     "text": [
      "Sunday\n",
      "Monday\n",
      "Tuesday\n",
      "Wednesday\n",
      "Thrusday\n",
      "Friday\n",
      "Saturday\n"
     ]
    }
   ],
   "source": [
    "A,B,C,D,E,F,G = days\n",
    "A = 'Sunday'\n",
    "print(A)\n",
    "print(B)\n",
    "print(C)\n",
    "print(D)\n",
    "print(E)\n",
    "print(F)\n",
    "print(G)"
   ]
  },
  {
   "cell_type": "code",
   "execution_count": 8,
   "id": "dc2c8157",
   "metadata": {},
   "outputs": [
    {
     "name": "stdout",
     "output_type": "stream",
     "text": [
      "Aayush\n",
      "Aayush\n",
      "ayu\n",
      "Aayu\n",
      "h\n",
      "y\n"
     ]
    }
   ],
   "source": [
    "a= 'Aayush'\n",
    "print(a)\n",
    "print(a[0:])\n",
    "print(a[1:4])\n",
    "print(a[:4])\n",
    "print(a[-1])\n",
    "print(a[-4])"
   ]
  },
  {
   "cell_type": "code",
   "execution_count": 57,
   "id": "5a7da97a",
   "metadata": {},
   "outputs": [
    {
     "name": "stdout",
     "output_type": "stream",
     "text": [
      "['Apple', 'Cat', 'Dog']\n"
     ]
    }
   ],
   "source": [
    "Alpha =['Apple','Ball','Cat']\n",
    "Alpha.append('Dog')\n",
    "Alpha.remove('Ball')\n",
    "print(Alpha)"
   ]
  },
  {
   "cell_type": "code",
   "execution_count": 60,
   "id": "8944f99f",
   "metadata": {},
   "outputs": [
    {
     "name": "stdout",
     "output_type": "stream",
     "text": [
      "['Apple', 2, ['Ball', 'Ballon'], 'Cat', True]\n"
     ]
    }
   ],
   "source": [
    "nested_list = ['Apple',2,['Ball','Ballon'], 'Cat', True]\n",
    "print(nested_list)"
   ]
  },
  {
   "cell_type": "code",
   "execution_count": 63,
   "id": "45a1a3b9",
   "metadata": {},
   "outputs": [
    {
     "data": {
      "text/plain": [
       "'Ballon'"
      ]
     },
     "execution_count": 63,
     "metadata": {},
     "output_type": "execute_result"
    }
   ],
   "source": [
    "nested_list[2][1]"
   ]
  },
  {
   "cell_type": "code",
   "execution_count": 8,
   "id": "eb84acb7",
   "metadata": {},
   "outputs": [
    {
     "data": {
      "text/plain": [
       "tuple"
      ]
     },
     "execution_count": 8,
     "metadata": {},
     "output_type": "execute_result"
    }
   ],
   "source": [
    "#tuple ()\n",
    "tuple_data = (1,2,4,4,5)\n",
    "type(tuple_data)"
   ]
  },
  {
   "cell_type": "code",
   "execution_count": 9,
   "id": "d9611b1e",
   "metadata": {},
   "outputs": [
    {
     "data": {
      "text/plain": [
       "4"
      ]
     },
     "execution_count": 9,
     "metadata": {},
     "output_type": "execute_result"
    }
   ],
   "source": [
    "tuple_data[2]"
   ]
  },
  {
   "cell_type": "code",
   "execution_count": 10,
   "id": "82ef9ef1",
   "metadata": {},
   "outputs": [
    {
     "name": "stdout",
     "output_type": "stream",
     "text": [
      "(1, 2, 4, 4, 5)\n"
     ]
    }
   ],
   "source": [
    "print(tuple_data)"
   ]
  },
  {
   "cell_type": "code",
   "execution_count": 11,
   "id": "1a711f57",
   "metadata": {},
   "outputs": [
    {
     "ename": "AttributeError",
     "evalue": "'tuple' object has no attribute 'append'",
     "output_type": "error",
     "traceback": [
      "\u001b[1;31m---------------------------------------------------------------------------\u001b[0m",
      "\u001b[1;31mAttributeError\u001b[0m                            Traceback (most recent call last)",
      "Cell \u001b[1;32mIn[11], line 1\u001b[0m\n\u001b[1;32m----> 1\u001b[0m tuple_data\u001b[38;5;241m.\u001b[39mappend[\u001b[38;5;241m2\u001b[39m] \u001b[38;5;241m=\u001b[39m \u001b[38;5;241m9\u001b[39m\n",
      "\u001b[1;31mAttributeError\u001b[0m: 'tuple' object has no attribute 'append'"
     ]
    }
   ],
   "source": [
    "tuple_data.append[2] = 9"
   ]
  },
  {
   "cell_type": "code",
   "execution_count": 12,
   "id": "226882a3",
   "metadata": {},
   "outputs": [
    {
     "data": {
      "text/plain": [
       "set"
      ]
     },
     "execution_count": 12,
     "metadata": {},
     "output_type": "execute_result"
    }
   ],
   "source": [
    "# sets {}\n",
    "sets = {1,3,4,5}\n",
    "type(sets)"
   ]
  },
  {
   "cell_type": "code",
   "execution_count": 13,
   "id": "4f8e8cd4",
   "metadata": {},
   "outputs": [
    {
     "name": "stdout",
     "output_type": "stream",
     "text": [
      "{1, 2, 3, 19, 5, 6, 30}\n"
     ]
    }
   ],
   "source": [
    "sets = {1,3,5,3,2,5,6,19,30}\n",
    "print(sets)"
   ]
  },
  {
   "cell_type": "code",
   "execution_count": 15,
   "id": "e8854f97",
   "metadata": {},
   "outputs": [],
   "source": [
    "sets_type_2 = {10,34,2,45,1,0,9,3}"
   ]
  },
  {
   "cell_type": "code",
   "execution_count": 16,
   "id": "ecf023e7",
   "metadata": {},
   "outputs": [
    {
     "name": "stdout",
     "output_type": "stream",
     "text": [
      "{0, 1, 2, 3, 34, 5, 6, 9, 10, 45, 19, 30}\n"
     ]
    }
   ],
   "source": [
    "# provides unique value from two set\n",
    "print(sets | sets_type_2)"
   ]
  },
  {
   "cell_type": "code",
   "execution_count": 17,
   "id": "e07cf44a",
   "metadata": {},
   "outputs": [
    {
     "name": "stdout",
     "output_type": "stream",
     "text": [
      "{1, 2, 3}\n"
     ]
    }
   ],
   "source": [
    "# provide what matches between two set\n",
    "print(sets & sets_type_2)"
   ]
  },
  {
   "cell_type": "code",
   "execution_count": 18,
   "id": "9f6c5edb",
   "metadata": {},
   "outputs": [
    {
     "name": "stdout",
     "output_type": "stream",
     "text": [
      "{19, 5, 6, 30}\n"
     ]
    }
   ],
   "source": [
    "# provide what don't match from first set\n",
    "print(sets - sets_type_2)"
   ]
  },
  {
   "cell_type": "code",
   "execution_count": 19,
   "id": "53ee889e",
   "metadata": {},
   "outputs": [
    {
     "name": "stdout",
     "output_type": "stream",
     "text": [
      "{0, 34, 5, 6, 9, 10, 45, 19, 30}\n"
     ]
    }
   ],
   "source": [
    "# value either in first set or second set that doesnot match\n",
    "print(sets ^ sets_type_2)"
   ]
  },
  {
   "cell_type": "markdown",
   "id": "b56dd695",
   "metadata": {},
   "source": [
    "# Data Types"
   ]
  },
  {
   "cell_type": "code",
   "execution_count": 14,
   "id": "2652f3d1",
   "metadata": {},
   "outputs": [
    {
     "data": {
      "text/plain": [
       "int"
      ]
     },
     "execution_count": 14,
     "metadata": {},
     "output_type": "execute_result"
    }
   ],
   "source": [
    "type(10-45+90)"
   ]
  },
  {
   "cell_type": "code",
   "execution_count": 15,
   "id": "5bed9ebf",
   "metadata": {},
   "outputs": [
    {
     "data": {
      "text/plain": [
       "float"
      ]
     },
     "execution_count": 15,
     "metadata": {},
     "output_type": "execute_result"
    }
   ],
   "source": [
    "type(4.5+6+4.9)"
   ]
  },
  {
   "cell_type": "code",
   "execution_count": 16,
   "id": "43fbe157",
   "metadata": {},
   "outputs": [
    {
     "data": {
      "text/plain": [
       "complex"
      ]
     },
     "execution_count": 16,
     "metadata": {},
     "output_type": "execute_result"
    }
   ],
   "source": [
    "type(3+2j)"
   ]
  },
  {
   "cell_type": "code",
   "execution_count": 22,
   "id": "917b6b93",
   "metadata": {},
   "outputs": [
    {
     "data": {
      "text/plain": [
       "bool"
      ]
     },
     "execution_count": 22,
     "metadata": {},
     "output_type": "execute_result"
    }
   ],
   "source": [
    "type(1==3)\n"
   ]
  },
  {
   "cell_type": "code",
   "execution_count": 29,
   "id": "9fe86703",
   "metadata": {},
   "outputs": [
    {
     "data": {
      "text/plain": [
       "('Hello World', 'Hello World')"
      ]
     },
     "execution_count": 29,
     "metadata": {},
     "output_type": "execute_result"
    }
   ],
   "source": [
    "# Strings\n",
    "# Single quote, double quote, triple quote\n",
    "'Hello World',\"Hello World\",\n"
   ]
  },
  {
   "cell_type": "code",
   "execution_count": 41,
   "id": "f2b1ac17",
   "metadata": {},
   "outputs": [
    {
     "data": {
      "text/plain": [
       "'\\nThis is python basic\\nHello World\\nVariables, Data Type and List\\nJupter NootBook\\n'"
      ]
     },
     "execution_count": 41,
     "metadata": {},
     "output_type": "execute_result"
    }
   ],
   "source": [
    "#Triple quote\n",
    "\"\"\"\n",
    "This is python basic\n",
    "Hello World\n",
    "Variables, Data Type and List\n",
    "Jupter NootBook\n",
    "\"\"\""
   ]
  },
  {
   "cell_type": "code",
   "execution_count": 48,
   "id": "7c26da9d",
   "metadata": {},
   "outputs": [
    {
     "data": {
      "text/plain": [
       "' I\\'m always reading \"books\" '"
      ]
     },
     "execution_count": 48,
     "metadata": {},
     "output_type": "execute_result"
    }
   ],
   "source": [
    "\"\"\" I'm always reading \"books\" \"\"\""
   ]
  },
  {
   "cell_type": "code",
   "execution_count": 41,
   "id": "de7d3e02",
   "metadata": {},
   "outputs": [
    {
     "data": {
      "text/plain": [
       "'AayushAayushAayush'"
      ]
     },
     "execution_count": 41,
     "metadata": {},
     "output_type": "execute_result"
    }
   ],
   "source": [
    "a= 'Aayush'\n",
    "a*3\n"
   ]
  },
  {
   "cell_type": "code",
   "execution_count": 51,
   "id": "3d3cc905",
   "metadata": {},
   "outputs": [
    {
     "data": {
      "text/plain": [
       "'AayushAayush'"
      ]
     },
     "execution_count": 51,
     "metadata": {},
     "output_type": "execute_result"
    }
   ],
   "source": [
    "a+a"
   ]
  },
  {
   "cell_type": "code",
   "execution_count": null,
   "id": "50e67a47",
   "metadata": {},
   "outputs": [],
   "source": []
  },
  {
   "cell_type": "code",
   "execution_count": 24,
   "id": "8af2ff80",
   "metadata": {},
   "outputs": [
    {
     "name": "stdout",
     "output_type": "stream",
     "text": [
      "{'Name': 'Aayush Basnet', 'Age': 20, 'Place': ['Kathmandu', 'Nepal']}\n"
     ]
    }
   ],
   "source": [
    "#dictionaries {'Key': value}\n",
    "# Key: value pair\n",
    "dictionary = {'Name': 'Aayush Basnet', 'Age': 20, 'Place':['Kathmandu','Nepal']}\n",
    "print(dictionary)"
   ]
  },
  {
   "cell_type": "code",
   "execution_count": 23,
   "id": "3e0c06b4",
   "metadata": {},
   "outputs": [
    {
     "data": {
      "text/plain": [
       "dict"
      ]
     },
     "execution_count": 23,
     "metadata": {},
     "output_type": "execute_result"
    }
   ],
   "source": [
    "type(dictionary)"
   ]
  },
  {
   "cell_type": "code",
   "execution_count": 28,
   "id": "3c8b4775",
   "metadata": {},
   "outputs": [
    {
     "data": {
      "text/plain": [
       "dict_values(['Aayush Basnet', 20, ['Kathmandu', 'Nepal']])"
      ]
     },
     "execution_count": 28,
     "metadata": {},
     "output_type": "execute_result"
    }
   ],
   "source": [
    "dictionary.values()"
   ]
  },
  {
   "cell_type": "code",
   "execution_count": 30,
   "id": "ac614ed7",
   "metadata": {},
   "outputs": [
    {
     "data": {
      "text/plain": [
       "dict_keys(['Name', 'Age', 'Place'])"
      ]
     },
     "execution_count": 30,
     "metadata": {},
     "output_type": "execute_result"
    }
   ],
   "source": [
    "dictionary.keys()"
   ]
  },
  {
   "cell_type": "code",
   "execution_count": 31,
   "id": "c2712698",
   "metadata": {},
   "outputs": [
    {
     "data": {
      "text/plain": [
       "dict_items([('Name', 'Aayush Basnet'), ('Age', 20), ('Place', ['Kathmandu', 'Nepal'])])"
      ]
     },
     "execution_count": 31,
     "metadata": {},
     "output_type": "execute_result"
    }
   ],
   "source": [
    "dictionary.items()"
   ]
  },
  {
   "cell_type": "code",
   "execution_count": 35,
   "id": "2c33b999",
   "metadata": {},
   "outputs": [
    {
     "data": {
      "text/plain": [
       "'Aayush Basnet'"
      ]
     },
     "execution_count": 35,
     "metadata": {},
     "output_type": "execute_result"
    }
   ],
   "source": [
    "dictionary['Name']"
   ]
  },
  {
   "cell_type": "code",
   "execution_count": 36,
   "id": "58415721",
   "metadata": {},
   "outputs": [
    {
     "name": "stdout",
     "output_type": "stream",
     "text": [
      "{'Name': 'Robert Handson', 'Age': 20, 'Place': ['Kathmandu', 'Nepal']}\n"
     ]
    }
   ],
   "source": [
    "dictionary['Name'] = 'Robert Handson'\n",
    "print(dictionary)"
   ]
  },
  {
   "cell_type": "code",
   "execution_count": 39,
   "id": "3589dd09",
   "metadata": {},
   "outputs": [
    {
     "name": "stdout",
     "output_type": "stream",
     "text": [
      "{'Name': 'Robert Handson', 'Age': 20, 'Place': ['Kathmandu', 'Nepal'], 'Country': 'Nepal', 'Date of Birth': 1994}\n"
     ]
    }
   ],
   "source": [
    "dictionary.update({'Name': 'Robert Handson', 'Date of Birth': 2003-6-3, 'Country': 'Nepal'})\n",
    "print(dictionary)"
   ]
  },
  {
   "cell_type": "code",
   "execution_count": 40,
   "id": "d301cbc3",
   "metadata": {},
   "outputs": [
    {
     "name": "stdout",
     "output_type": "stream",
     "text": [
      "{'Name': 'Robert Handson', 'Age': 20, 'Place': ['Kathmandu', 'Nepal'], 'Country': 'Nepal'}\n"
     ]
    }
   ],
   "source": [
    "del dictionary['Date of Birth']\n",
    "print(dictionary)"
   ]
  },
  {
   "cell_type": "code",
   "execution_count": 29,
   "id": "e827a7c1",
   "metadata": {},
   "outputs": [
    {
     "ename": "TypeError",
     "evalue": "dict.values() takes no arguments (1 given)",
     "output_type": "error",
     "traceback": [
      "\u001b[1;31m---------------------------------------------------------------------------\u001b[0m",
      "\u001b[1;31mTypeError\u001b[0m                                 Traceback (most recent call last)",
      "Cell \u001b[1;32mIn[29], line 1\u001b[0m\n\u001b[1;32m----> 1\u001b[0m dictionary\u001b[38;5;241m.\u001b[39mvalues(\u001b[38;5;241m1\u001b[39m)\n",
      "\u001b[1;31mTypeError\u001b[0m: dict.values() takes no arguments (1 given)"
     ]
    }
   ],
   "source": [
    "dictionary.values(1)"
   ]
  }
 ],
 "metadata": {
  "kernelspec": {
   "display_name": "Python 3 (ipykernel)",
   "language": "python",
   "name": "python3"
  },
  "language_info": {
   "codemirror_mode": {
    "name": "ipython",
    "version": 3
   },
   "file_extension": ".py",
   "mimetype": "text/x-python",
   "name": "python",
   "nbconvert_exporter": "python",
   "pygments_lexer": "ipython3",
   "version": "3.11.5"
  }
 },
 "nbformat": 4,
 "nbformat_minor": 5
}
