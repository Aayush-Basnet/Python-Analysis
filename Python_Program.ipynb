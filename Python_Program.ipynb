{
 "cells": [
  {
   "cell_type": "markdown",
   "id": "02e2ea66",
   "metadata": {},
   "source": [
    "# BMI Calculator"
   ]
  },
  {
   "cell_type": "code",
   "execution_count": 7,
   "id": "2c67e8c6",
   "metadata": {},
   "outputs": [
    {
     "name": "stdout",
     "output_type": "stream",
     "text": [
      "Enter your name: Aayush\n",
      "Enter your weight in kg: 57\n",
      "Enter your height in feet: 5.4\n",
      "21.040565629370857\n",
      "Aayush, you are normal weight\n"
     ]
    }
   ],
   "source": [
    "#BMI = mass(in kg)/  height * height (in meter)\n",
    "# 1 feet = 30.48 cm\n",
    "# 100 cm = 1 meter\n",
    "\n",
    "name = input(\"Enter your name: \")\n",
    "weight = float(input(\"Enter your weight in kg: \"))\n",
    "height = float(input(\"Enter your height in feet: \"))\n",
    "\n",
    "height = height*30.48\n",
    "height = height/100\n",
    "\n",
    "BMI = (weight)/(height*height)\n",
    "\n",
    "print(BMI)\n",
    "\n",
    "if BMI > 0:\n",
    "    if (BMI < 18.5):\n",
    "        print(name+\", you are underweight\")\n",
    "    elif(BMI <=24.9):\n",
    "        print(name+\", you are normal weight\")\n",
    "    elif(BMI <=39.9):\n",
    "        print(name+\", you are overweight\")\n",
    "    elif(BMI<34.9):\n",
    "        print(name+\", you are obses\")\n",
    "    elif(BMI<39.9):\n",
    "        print(name+\", you are severely obese\")\n",
    "    else:\n",
    "        print(name+\", you are morbidly obese\")\n",
    "else:\n",
    "    print(\"Invalid Input\")\n",
    "\n"
   ]
  },
  {
   "cell_type": "code",
   "execution_count": null,
   "id": "128d948e",
   "metadata": {},
   "outputs": [],
   "source": []
  },
  {
   "cell_type": "markdown",
   "id": "6ad0681d",
   "metadata": {},
   "source": [
    "# KBC"
   ]
  },
  {
   "cell_type": "code",
   "execution_count": 19,
   "id": "1eaf2643",
   "metadata": {},
   "outputs": [
    {
     "name": "stdout",
     "output_type": "stream",
     "text": [
      "\n",
      " Your question for Rs.1000: \n",
      "\n",
      " What is the capital of France?\n",
      " 1.London   2.Berlin   3.Paris   4.Moscow\n",
      "\n",
      "Enter option from (1-4) and 0 to quit: 1\n",
      "Wrong answer\n",
      "\n",
      "Congratulations you have won Rs.0\n"
     ]
    }
   ],
   "source": [
    "# lsit of questions\n",
    "questions = [\n",
    "    [\"What is the capital of France?\",\"London\",\"Berlin\",\"Paris\",\"Moscow\",3],\n",
    "    [\"What is the largest planet in our solar system?\",\"Saturn\",\"Jupiter\",\"Neptune\",\"Earth\",2],\n",
    "    [\"Who painted famours art 'Monalisa'?\",\"Monet\",\"Da Vinci\",\"Picaso\",\"Van Gogh\",2],\n",
    "    [\"What is the currency of Japan?\",\"Yen\",\"Dollar\",\"Peso\",\"Rupee\",1],\n",
    "    [\"Which is the highest mountain in the world?\",\"Mt K2\",\"Kanchanjungha\",\"Annapurna\",\"Mt Everest\",4],\n",
    "    [\"What is the largest ocean in the world?\",\"Atlanctic\",\"Pacific\",\"Indian\",\"Arctic\",2],\n",
    "]\n",
    "\n",
    "# creating list of level for money according to kbc\n",
    "level = [1000,2000,4000,10000,15000,25000]\n",
    "money =0\n",
    "\n",
    "for i in range(0,len(questions)):\n",
    "    question=questions[i]\n",
    "    print(f\"\\n Your question for Rs.{level[i]}: \")\n",
    "    print(\"\\n\",question[0])\n",
    "    print(f\" 1.{question[1]}   2.{question[2]}   3.{question[3]}   4.{question[4]}\")\n",
    "    answer = int(input(\"\\nEnter option from (1-4) and 0 to quit: \"))\n",
    "    \n",
    "    if answer == 0:\n",
    "        money = level[i-1]\n",
    "        break\n",
    "    if answer == question[-1]:\n",
    "        money=level[i]\n",
    "        print(f\"Congratulations you have won Rs.{money}\")\n",
    "        \n",
    "    else:\n",
    "        print(\"Wrong answer\")\n",
    "        break\n",
    "\n",
    "print(f\"\\nCongratulations you have won Rs.{money}\")"
   ]
  },
  {
   "cell_type": "code",
   "execution_count": null,
   "id": "07dc7183",
   "metadata": {},
   "outputs": [],
   "source": []
  },
  {
   "cell_type": "markdown",
   "id": "2c32c171",
   "metadata": {},
   "source": [
    "# Prime Number"
   ]
  },
  {
   "cell_type": "code",
   "execution_count": 18,
   "id": "9600b56c",
   "metadata": {},
   "outputs": [
    {
     "name": "stdout",
     "output_type": "stream",
     "text": [
      "Enter positive integer number: 47\n",
      "47  is prime number.\n"
     ]
    }
   ],
   "source": [
    "n =int(input(\"Enter positive integer number: \"))\n",
    "flag =0\n",
    "\n",
    "if(n==0 or n==1):\n",
    "    flag =1\n",
    "    \n",
    "for i in range(2,n//2+1):\n",
    "    if(n%i==0):\n",
    "        flag = 1\n",
    "        break\n",
    "    \n",
    "if(flag ==0):\n",
    "    print(n,\" is prime number.\")\n",
    "else:\n",
    "    print(n,\" is not prime number.\")"
   ]
  },
  {
   "cell_type": "code",
   "execution_count": null,
   "id": "3bfd3fbe",
   "metadata": {},
   "outputs": [],
   "source": []
  }
 ],
 "metadata": {
  "kernelspec": {
   "display_name": "Python 3 (ipykernel)",
   "language": "python",
   "name": "python3"
  },
  "language_info": {
   "codemirror_mode": {
    "name": "ipython",
    "version": 3
   },
   "file_extension": ".py",
   "mimetype": "text/x-python",
   "name": "python",
   "nbconvert_exporter": "python",
   "pygments_lexer": "ipython3",
   "version": "3.11.5"
  }
 },
 "nbformat": 4,
 "nbformat_minor": 5
}
